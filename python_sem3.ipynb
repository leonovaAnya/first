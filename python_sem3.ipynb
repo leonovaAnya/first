{
  "nbformat": 4,
  "nbformat_minor": 0,
  "metadata": {
    "colab": {
      "name": "python_sem3.ipynb",
      "version": "0.3.2",
      "provenance": [],
      "include_colab_link": true
    },
    "kernelspec": {
      "display_name": "Python 3",
      "language": "python",
      "name": "python3"
    }
  },
  "cells": [
    {
      "cell_type": "markdown",
      "metadata": {
        "id": "view-in-github",
        "colab_type": "text"
      },
      "source": [
        "<a href=\"https://colab.research.google.com/github/leonovaAnya/first/blob/master/python_sem3.ipynb\" target=\"_parent\"><img src=\"https://colab.research.google.com/assets/colab-badge.svg\" alt=\"Open In Colab\"/></a>"
      ]
    },
    {
      "metadata": {
        "id": "qtmTgBKyoydt",
        "colab_type": "text"
      },
      "cell_type": "markdown",
      "source": [
        "# Списки+, множества, словари"
      ]
    },
    {
      "metadata": {
        "id": "mnYGeYpkoydv",
        "colab_type": "text"
      },
      "cell_type": "markdown",
      "source": [
        "## Строки и списки: как превращать одно в другое"
      ]
    },
    {
      "metadata": {
        "id": "3MwMmxW9oydv",
        "colab_type": "code",
        "colab": {}
      },
      "cell_type": "code",
      "source": [
        "tarkovsky = \"\"\"Был домик в три оконца\n",
        "В такой окрашен цвет,\n",
        "Что даже в спектре солнца\n",
        "Такого цвета нет.\"\"\""
      ],
      "execution_count": 0,
      "outputs": []
    },
    {
      "metadata": {
        "id": "VgAf36HQoydz",
        "colab_type": "code",
        "colab": {
          "base_uri": "https://localhost:8080/",
          "height": 35
        },
        "outputId": "bb52b0a7-9d95-4414-b5e6-7cf16dfe9f2b"
      },
      "cell_type": "code",
      "source": [
        "splitted_tarkovsky = tarkovsky.split()\n",
        "print(splitted_tarkovsky)"
      ],
      "execution_count": 23,
      "outputs": [
        {
          "output_type": "stream",
          "text": [
            "['Был', 'домик', 'в', 'три', 'оконца', 'В', 'такой', 'окрашен', 'цвет,', 'Что', 'даже', 'в', 'спектре', 'солнца', 'Такого', 'цвета', 'нет.']\n"
          ],
          "name": "stdout"
        }
      ]
    },
    {
      "metadata": {
        "id": "CrRb-989qOlw",
        "colab_type": "code",
        "colab": {}
      },
      "cell_type": "code",
      "source": [
        ""
      ],
      "execution_count": 0,
      "outputs": []
    },
    {
      "metadata": {
        "id": "7ytGxQKxoyd4",
        "colab_type": "text"
      },
      "cell_type": "markdown",
      "source": [
        "Можно также засплитить именно по пробелу:"
      ]
    },
    {
      "metadata": {
        "id": "dEDHRcUuoyd4",
        "colab_type": "code",
        "colab": {},
        "outputId": "0acdf2c0-30c0-4bfd-9f4d-546bd745384a"
      },
      "cell_type": "code",
      "source": [
        "tarkovsky.split(' ')"
      ],
      "execution_count": 0,
      "outputs": [
        {
          "output_type": "execute_result",
          "data": {
            "text/plain": [
              "['Был',\n",
              " 'домик',\n",
              " 'в',\n",
              " 'три',\n",
              " 'оконца\\nВ',\n",
              " 'такой',\n",
              " 'окрашен',\n",
              " 'цвет,\\nЧто',\n",
              " 'даже',\n",
              " 'в',\n",
              " 'спектре',\n",
              " 'солнца\\nТакого',\n",
              " 'цвета',\n",
              " 'нет.']"
            ]
          },
          "metadata": {
            "tags": []
          },
          "execution_count": 98
        }
      ]
    },
    {
      "metadata": {
        "id": "crdgLz-Aoyd7",
        "colab_type": "text"
      },
      "cell_type": "markdown",
      "source": [
        "Или по переводу строки:"
      ]
    },
    {
      "metadata": {
        "id": "nZODmrY6oyd8",
        "colab_type": "code",
        "colab": {},
        "outputId": "fdb551e6-bb9a-4401-cd18-fe8dc09f2181"
      },
      "cell_type": "code",
      "source": [
        "tarkovsky.split('\\n')"
      ],
      "execution_count": 0,
      "outputs": [
        {
          "output_type": "execute_result",
          "data": {
            "text/plain": [
              "['Был домик в три оконца',\n",
              " 'В такой окрашен цвет,',\n",
              " 'Что даже в спектре солнца',\n",
              " 'Такого цвета нет.']"
            ]
          },
          "metadata": {
            "tags": []
          },
          "execution_count": 99
        }
      ]
    },
    {
      "metadata": {
        "id": "7_fkKJ3zoyd_",
        "colab_type": "text"
      },
      "cell_type": "markdown",
      "source": [
        "Или по букве а:"
      ]
    },
    {
      "metadata": {
        "id": "pF7KCC-OoyeA",
        "colab_type": "code",
        "colab": {},
        "outputId": "4eab7966-9a7e-47f5-e3ab-aafe42e832f2"
      },
      "cell_type": "code",
      "source": [
        "tarkovsky.split('а')"
      ],
      "execution_count": 0,
      "outputs": [
        {
          "output_type": "execute_result",
          "data": {
            "text/plain": [
              "['Был домик в три оконц',\n",
              " '\\nВ т',\n",
              " 'кой окр',\n",
              " 'шен цвет,\\nЧто д',\n",
              " 'же в спектре солнц',\n",
              " '\\nТ',\n",
              " 'кого цвет',\n",
              " ' нет.']"
            ]
          },
          "metadata": {
            "tags": []
          },
          "execution_count": 101
        }
      ]
    },
    {
      "metadata": {
        "id": "FjVqp5HZoyeF",
        "colab_type": "text"
      },
      "cell_type": "markdown",
      "source": [
        "А вот так массив из строк можно сделать снова одной строкой:"
      ]
    },
    {
      "metadata": {
        "id": "8HX7jdvwoyeF",
        "colab_type": "code",
        "colab": {},
        "outputId": "c784e7fb-e38f-448a-ebce-40532989e16b"
      },
      "cell_type": "code",
      "source": [
        "splitted_tarkovsky[:5]"
      ],
      "execution_count": 0,
      "outputs": [
        {
          "output_type": "execute_result",
          "data": {
            "text/plain": [
              "['Был', 'домик', 'в', 'три', 'оконца']"
            ]
          },
          "metadata": {
            "tags": []
          },
          "execution_count": 103
        }
      ]
    },
    {
      "metadata": {
        "id": "QFJXopYBoyeJ",
        "colab_type": "code",
        "colab": {},
        "outputId": "a59ee344-e0c3-42f4-f105-e3db032b2743"
      },
      "cell_type": "code",
      "source": [
        "joined_tarkovsky = ' '.join(splitted_tarkovsky)\n",
        "print(joined_tarkovsky)"
      ],
      "execution_count": 0,
      "outputs": [
        {
          "output_type": "stream",
          "text": [
            "Был домик в три оконца В такой окрашен цвет, Что даже в спектре солнца Такого цвета нет.\n"
          ],
          "name": "stdout"
        }
      ]
    },
    {
      "metadata": {
        "id": "QTWQpAgqoyeM",
        "colab_type": "code",
        "colab": {},
        "outputId": "e79b87ab-d723-4f6a-883d-489e6847fe84"
      },
      "cell_type": "code",
      "source": [
        "joined_tarkovsky_2 = ' O_o '.join(splitted_tarkovsky)\n",
        "print(joined_tarkovsky_2)"
      ],
      "execution_count": 0,
      "outputs": [
        {
          "output_type": "stream",
          "text": [
            "Был O_o домик O_o в O_o три O_o оконца O_o В O_o такой O_o окрашен O_o цвет, O_o Что O_o даже O_o в O_o спектре O_o солнца O_o Такого O_o цвета O_o нет.\n"
          ],
          "name": "stdout"
        }
      ]
    },
    {
      "metadata": {
        "id": "7FFaNVG3oyeP",
        "colab_type": "text"
      },
      "cell_type": "markdown",
      "source": [
        "## Ещё функции для списков"
      ]
    },
    {
      "metadata": {
        "id": "v4OIHtBcoyeP",
        "colab_type": "code",
        "colab": {}
      },
      "cell_type": "code",
      "source": [
        "nums = [7, 1, 5, 6, 7, 9, 11, 0]"
      ],
      "execution_count": 0,
      "outputs": []
    },
    {
      "metadata": {
        "id": "3nQMv8WSoyeR",
        "colab_type": "code",
        "colab": {
          "base_uri": "https://localhost:8080/",
          "height": 35
        },
        "outputId": "6f9b9079-6b0f-42ef-b4e5-23e70037de21"
      },
      "cell_type": "code",
      "source": [
        "reversed(nums)"
      ],
      "execution_count": 32,
      "outputs": [
        {
          "output_type": "execute_result",
          "data": {
            "text/plain": [
              "<list_reverseiterator at 0x7fa1af6d61d0>"
            ]
          },
          "metadata": {
            "tags": []
          },
          "execution_count": 32
        }
      ]
    },
    {
      "metadata": {
        "id": "cHxyffoRoyeV",
        "colab_type": "code",
        "colab": {
          "base_uri": "https://localhost:8080/",
          "height": 35
        },
        "outputId": "5c643c31-a5ba-41c0-9af6-b931dc07c52d"
      },
      "cell_type": "code",
      "source": [
        "list(reversed(nums))"
      ],
      "execution_count": 33,
      "outputs": [
        {
          "output_type": "execute_result",
          "data": {
            "text/plain": [
              "[0, 11, 9, 7, 6, 5, 1, 7]"
            ]
          },
          "metadata": {
            "tags": []
          },
          "execution_count": 33
        }
      ]
    },
    {
      "metadata": {
        "id": "tUmeGCstoyeY",
        "colab_type": "code",
        "colab": {
          "base_uri": "https://localhost:8080/",
          "height": 35
        },
        "outputId": "fc48053c-62f4-442e-86db-5637ec234b9c"
      },
      "cell_type": "code",
      "source": [
        "sorted(nums)"
      ],
      "execution_count": 34,
      "outputs": [
        {
          "output_type": "execute_result",
          "data": {
            "text/plain": [
              "[0, 1, 5, 6, 7, 7, 9, 11]"
            ]
          },
          "metadata": {
            "tags": []
          },
          "execution_count": 34
        }
      ]
    },
    {
      "metadata": {
        "id": "r_e8BOMFoyed",
        "colab_type": "code",
        "colab": {
          "base_uri": "https://localhost:8080/",
          "height": 35
        },
        "outputId": "ca2ace35-4cbc-459e-d51a-b49f0ee6982d"
      },
      "cell_type": "code",
      "source": [
        "sorted(nums, reverse=True)"
      ],
      "execution_count": 35,
      "outputs": [
        {
          "output_type": "execute_result",
          "data": {
            "text/plain": [
              "[11, 9, 7, 7, 6, 5, 1, 0]"
            ]
          },
          "metadata": {
            "tags": []
          },
          "execution_count": 35
        }
      ]
    },
    {
      "metadata": {
        "id": "LLlwMaB9oyeg",
        "colab_type": "text"
      },
      "cell_type": "markdown",
      "source": [
        "## Множества\n",
        "\n",
        "Ещё один тип данных.\n",
        "Важные вещи:\n",
        "* элементы всегда уникальны\n",
        "* индексация (типа a\\[7\\]) -- **не** поддерживается\n",
        "* как и список, изменяемый тип"
      ]
    },
    {
      "metadata": {
        "id": "cRYWNnyjoyeh",
        "colab_type": "code",
        "colab": {}
      },
      "cell_type": "code",
      "source": [
        "numbers = {2, 4, 6, 1}"
      ],
      "execution_count": 0,
      "outputs": []
    },
    {
      "metadata": {
        "id": "06wYhA8hoyej",
        "colab_type": "code",
        "colab": {
          "base_uri": "https://localhost:8080/",
          "height": 35
        },
        "outputId": "83177a26-3248-4769-9970-2da6cb85133e"
      },
      "cell_type": "code",
      "source": [
        "numbers"
      ],
      "execution_count": 41,
      "outputs": [
        {
          "output_type": "execute_result",
          "data": {
            "text/plain": [
              "{1, 2, 4, 6, 8}"
            ]
          },
          "metadata": {
            "tags": []
          },
          "execution_count": 41
        }
      ]
    },
    {
      "metadata": {
        "id": "POXUKop0zbo2",
        "colab_type": "code",
        "colab": {
          "base_uri": "https://localhost:8080/",
          "height": 218
        },
        "outputId": "78405f08-3e9b-4a2e-98a3-f21b0884c216"
      },
      "cell_type": "code",
      "source": [
        "numbers.add(\"ft\")\n",
        "print(numbers)\n",
        "numbers.remove(\"ft\")\n",
        "print(numbers)\n"
      ],
      "execution_count": 55,
      "outputs": [
        {
          "output_type": "error",
          "ename": "TypeError",
          "evalue": "ignored",
          "traceback": [
            "\u001b[0;31m---------------------------------------------------------------------------\u001b[0m",
            "\u001b[0;31mTypeError\u001b[0m                                 Traceback (most recent call last)",
            "\u001b[0;32m<ipython-input-55-26ce4d5e357c>\u001b[0m in \u001b[0;36m<module>\u001b[0;34m()\u001b[0m\n\u001b[0;32m----> 1\u001b[0;31m \u001b[0mnumbers\u001b[0m\u001b[0;34m.\u001b[0m\u001b[0madd\u001b[0m\u001b[0;34m(\u001b[0m\u001b[0;34m\"ft\"\u001b[0m\u001b[0;34m,\u001b[0m\u001b[0;34m\"kj\"\u001b[0m\u001b[0;34m,\u001b[0m\u001b[0;34m\"hgj\"\u001b[0m\u001b[0;34m)\u001b[0m\u001b[0;34m\u001b[0m\u001b[0m\n\u001b[0m\u001b[1;32m      2\u001b[0m \u001b[0mprint\u001b[0m\u001b[0;34m(\u001b[0m\u001b[0mnumbers\u001b[0m\u001b[0;34m)\u001b[0m\u001b[0;34m\u001b[0m\u001b[0m\n\u001b[1;32m      3\u001b[0m \u001b[0mnumbers\u001b[0m\u001b[0;34m.\u001b[0m\u001b[0mremove\u001b[0m\u001b[0;34m(\u001b[0m\u001b[0;34m\"ft\"\u001b[0m\u001b[0;34m)\u001b[0m\u001b[0;34m\u001b[0m\u001b[0m\n\u001b[1;32m      4\u001b[0m \u001b[0mprint\u001b[0m\u001b[0;34m(\u001b[0m\u001b[0mnumbers\u001b[0m\u001b[0;34m)\u001b[0m\u001b[0;34m\u001b[0m\u001b[0m\n",
            "\u001b[0;31mTypeError\u001b[0m: add() takes exactly one argument (3 given)"
          ]
        }
      ]
    },
    {
      "metadata": {
        "id": "bXabB-kAoyem",
        "colab_type": "code",
        "colab": {}
      },
      "cell_type": "code",
      "source": [
        "more_numbers = set([23, 43, 43])"
      ],
      "execution_count": 0,
      "outputs": []
    },
    {
      "metadata": {
        "id": "JjWdDKN7oyep",
        "colab_type": "code",
        "colab": {
          "base_uri": "https://localhost:8080/",
          "height": 35
        },
        "outputId": "3771e70e-b864-4048-ddde-ce8d16345399"
      },
      "cell_type": "code",
      "source": [
        "more_numbers"
      ],
      "execution_count": 57,
      "outputs": [
        {
          "output_type": "execute_result",
          "data": {
            "text/plain": [
              "{23, 43}"
            ]
          },
          "metadata": {
            "tags": []
          },
          "execution_count": 57
        }
      ]
    },
    {
      "metadata": {
        "id": "ccjSzF1b8B_e",
        "colab_type": "code",
        "colab": {
          "base_uri": "https://localhost:8080/",
          "height": 35
        },
        "outputId": "97238a84-b7c8-43df-fdb0-acc60b32f22d"
      },
      "cell_type": "code",
      "source": [
        "ymn={23,15,11}\n",
        "more_numbers & ymn\n"
      ],
      "execution_count": 60,
      "outputs": [
        {
          "output_type": "execute_result",
          "data": {
            "text/plain": [
              "{23}"
            ]
          },
          "metadata": {
            "tags": []
          },
          "execution_count": 60
        }
      ]
    },
    {
      "metadata": {
        "id": "FlNoalJk9Yr-",
        "colab_type": "code",
        "colab": {
          "base_uri": "https://localhost:8080/",
          "height": 35
        },
        "outputId": "0c0a1a00-a60f-4648-f12e-3eb70ada9cee"
      },
      "cell_type": "code",
      "source": [
        "more_numbers | ymn\n"
      ],
      "execution_count": 61,
      "outputs": [
        {
          "output_type": "execute_result",
          "data": {
            "text/plain": [
              "{11, 15, 23, 43}"
            ]
          },
          "metadata": {
            "tags": []
          },
          "execution_count": 61
        }
      ]
    },
    {
      "metadata": {
        "id": "G5Vg8CF_oyes",
        "colab_type": "code",
        "colab": {
          "base_uri": "https://localhost:8080/",
          "height": 35
        },
        "outputId": "facde43a-6ed9-4dcc-ef5a-a75b7910753d"
      },
      "cell_type": "code",
      "source": [
        "letters = set('letters')\n",
        "letters"
      ],
      "execution_count": 58,
      "outputs": [
        {
          "output_type": "execute_result",
          "data": {
            "text/plain": [
              "{'e', 'l', 'r', 's', 't'}"
            ]
          },
          "metadata": {
            "tags": []
          },
          "execution_count": 58
        }
      ]
    },
    {
      "metadata": {
        "id": "VCL3yFZWoyeu",
        "colab_type": "text"
      },
      "cell_type": "markdown",
      "source": [
        "### Задание на сплит и множества\n",
        "\n",
        "Есть строка:"
      ]
    },
    {
      "metadata": {
        "id": "vQVJzcUvoyev",
        "colab_type": "code",
        "colab": {}
      },
      "cell_type": "code",
      "source": [
        "sneg = \"\"\"\n",
        "снег идёт, снег идёт,\n",
        "к белым звёздочкам в буране\n",
        "тянутся цветы герани\n",
        "за оконный переплёт\n",
        "\"\"\""
      ],
      "execution_count": 0,
      "outputs": []
    },
    {
      "metadata": {
        "id": "s3AlEM2Boyex",
        "colab_type": "text"
      },
      "cell_type": "markdown",
      "source": [
        "Сколько здесь уникальных слов?"
      ]
    },
    {
      "metadata": {
        "id": "aqTS3548oyey",
        "colab_type": "code",
        "colab": {
          "base_uri": "https://localhost:8080/",
          "height": 69
        },
        "outputId": "fe9b9a1a-25b4-4999-8681-e8bae6ae70d6"
      },
      "cell_type": "code",
      "source": [
        "x=sneg.split()\n",
        "print(x)\n",
        "y=set(x)\n",
        "print(y)\n",
        "len(y)"
      ],
      "execution_count": 84,
      "outputs": [
        {
          "output_type": "stream",
          "text": [
            "['снег', 'идёт,', 'снег', 'идёт,', 'к', 'белым', 'звёздочкам', 'в', 'буране', 'тянутся', 'цветы', 'герани', 'за', 'оконный', 'переплёт']\n",
            "{'оконный', 'буране', 'звёздочкам', 'цветы', 'идёт,', 'тянутся', 'снег', 'герани', 'белым', 'к', 'за', 'в', 'переплёт'}\n"
          ],
          "name": "stdout"
        },
        {
          "output_type": "execute_result",
          "data": {
            "text/plain": [
              "13"
            ]
          },
          "metadata": {
            "tags": []
          },
          "execution_count": 84
        }
      ]
    },
    {
      "metadata": {
        "id": "7pFX30HDoyez",
        "colab_type": "text"
      },
      "cell_type": "markdown",
      "source": [
        "Выведите в алфавитном порядке все слова, которые здесь встретились:"
      ]
    },
    {
      "metadata": {
        "id": "DWAGLusCoye0",
        "colab_type": "code",
        "colab": {
          "base_uri": "https://localhost:8080/",
          "height": 277
        },
        "outputId": "1b79c696-234d-4513-c0e7-2a538ac1edfe"
      },
      "cell_type": "code",
      "source": [
        "sorted(y)\n",
        "sorted(x)"
      ],
      "execution_count": 88,
      "outputs": [
        {
          "output_type": "execute_result",
          "data": {
            "text/plain": [
              "['белым',\n",
              " 'буране',\n",
              " 'в',\n",
              " 'герани',\n",
              " 'за',\n",
              " 'звёздочкам',\n",
              " 'идёт,',\n",
              " 'идёт,',\n",
              " 'к',\n",
              " 'оконный',\n",
              " 'переплёт',\n",
              " 'снег',\n",
              " 'снег',\n",
              " 'тянутся',\n",
              " 'цветы']"
            ]
          },
          "metadata": {
            "tags": []
          },
          "execution_count": 88
        }
      ]
    },
    {
      "metadata": {
        "id": "lONR1PcdBC7I",
        "colab_type": "code",
        "colab": {
          "base_uri": "https://localhost:8080/",
          "height": 381
        },
        "outputId": "ac9c58a7-ac5d-43c7-807d-7e7399e7ab7b"
      },
      "cell_type": "code",
      "source": [
        "import this\n"
      ],
      "execution_count": 89,
      "outputs": [
        {
          "output_type": "stream",
          "text": [
            "The Zen of Python, by Tim Peters\n",
            "\n",
            "Beautiful is better than ugly.\n",
            "Explicit is better than implicit.\n",
            "Simple is better than complex.\n",
            "Complex is better than complicated.\n",
            "Flat is better than nested.\n",
            "Sparse is better than dense.\n",
            "Readability counts.\n",
            "Special cases aren't special enough to break the rules.\n",
            "Although practicality beats purity.\n",
            "Errors should never pass silently.\n",
            "Unless explicitly silenced.\n",
            "In the face of ambiguity, refuse the temptation to guess.\n",
            "There should be one-- and preferably only one --obvious way to do it.\n",
            "Although that way may not be obvious at first unless you're Dutch.\n",
            "Now is better than never.\n",
            "Although never is often better than *right* now.\n",
            "If the implementation is hard to explain, it's a bad idea.\n",
            "If the implementation is easy to explain, it may be a good idea.\n",
            "Namespaces are one honking great idea -- let's do more of those!\n"
          ],
          "name": "stdout"
        }
      ]
    },
    {
      "metadata": {
        "id": "gs39I7yaoye1",
        "colab_type": "text"
      },
      "cell_type": "markdown",
      "source": [
        "## Ещё немного про циклы\n",
        "\n",
        "### Получение нового списка\n",
        "\n",
        "На прошлом занятии мы пробегались по списку и заменяли каждый элемент на что-то другое. Но:\n",
        "* есть куда более простой для понимания способ получить один список на основе другого\n",
        "* что если нужно получить список меньшего размера -- только для некоторых элементов?\n",
        "* что если нам нужен и старый список, и новый?\n",
        "\n",
        "Обычно делают так:"
      ]
    },
    {
      "metadata": {
        "id": "QkNXZ42Coye3",
        "colab_type": "code",
        "colab": {},
        "outputId": "14c2b4f1-3f42-41aa-ee2c-a53f9d642367"
      },
      "cell_type": "code",
      "source": [
        "x = [2, 5, 6, 3, 7, 8, 11, 15, 12]\n",
        "\n",
        "# допустим, мы хотим создать список, в котором лежат только те элементы этого списка,\n",
        "# которые делятся на 3 или 5\n",
        "new_x = []\n",
        "for num in x:\n",
        "    if num % 3 == 0 or num % 5 == 0:\n",
        "        new_x.append(num)\n",
        "        \n",
        "print(new_x)"
      ],
      "execution_count": 0,
      "outputs": [
        {
          "output_type": "stream",
          "text": [
            "[5, 6, 3, 15, 12]\n"
          ],
          "name": "stdout"
        }
      ]
    },
    {
      "metadata": {
        "id": "Bybx9JgXoye5",
        "colab_type": "text"
      },
      "cell_type": "markdown",
      "source": [
        "#### Задание\n",
        "\n",
        "Возьмём список слов:"
      ]
    },
    {
      "metadata": {
        "id": "mFp9UOeaoye6",
        "colab_type": "code",
        "colab": {
          "base_uri": "https://localhost:8080/",
          "height": 312
        },
        "outputId": "9aac3144-9349-4edb-b764-065d319377e7"
      },
      "cell_type": "code",
      "source": [
        "splitted_tarkovsky"
      ],
      "execution_count": 21,
      "outputs": [
        {
          "output_type": "execute_result",
          "data": {
            "text/plain": [
              "['Был',\n",
              " 'домик',\n",
              " 'в',\n",
              " 'три',\n",
              " 'оконца',\n",
              " 'В',\n",
              " 'такой',\n",
              " 'окрашен',\n",
              " 'цвет,',\n",
              " 'Что',\n",
              " 'даже',\n",
              " 'в',\n",
              " 'спектре',\n",
              " 'солнца',\n",
              " 'Такого',\n",
              " 'цвета',\n",
              " 'нет.']"
            ]
          },
          "metadata": {
            "tags": []
          },
          "execution_count": 21
        }
      ]
    },
    {
      "metadata": {
        "id": "lp2j1IYGoye9",
        "colab_type": "text"
      },
      "cell_type": "markdown",
      "source": [
        "Создайте список, в котором лежат слова из списка выше, если они длиннее трёх симолов. "
      ]
    },
    {
      "metadata": {
        "id": "pkbNROWhoye9",
        "colab_type": "code",
        "colab": {
          "base_uri": "https://localhost:8080/",
          "height": 35
        },
        "outputId": "ca7fc164-dc01-4e87-e8a4-9ac3d12b9958"
      },
      "cell_type": "code",
      "source": [
        "new_tar=[]\n",
        "for i in splitted_tarkovsky:\n",
        "    if len(i)>3:\n",
        "        new_tar.append(i)\n",
        "print(new_tar)\n",
        "      "
      ],
      "execution_count": 25,
      "outputs": [
        {
          "output_type": "stream",
          "text": [
            "['домик', 'оконца', 'такой', 'окрашен', 'цвет,', 'даже', 'спектре', 'солнца', 'Такого', 'цвета', 'нет.']\n"
          ],
          "name": "stdout"
        }
      ]
    },
    {
      "metadata": {
        "id": "it4Zi7C5oye_",
        "colab_type": "text"
      },
      "cell_type": "markdown",
      "source": [
        "Для тех, кому всё понятно и кто идёт вперёд -- можете посмотреть на [генераторы списков](http://pythontutor.ru/lessons/lists/#section_3) или загуглить list comprehensions. Это почти то же самое, но в одну строчку :) "
      ]
    },
    {
      "metadata": {
        "id": "ljj20iuJoye_",
        "colab_type": "text"
      },
      "cell_type": "markdown",
      "source": [
        "### break, continue\n",
        "\n",
        "break позволяет прерывать цикл"
      ]
    },
    {
      "metadata": {
        "id": "3rDIBPt0oye_",
        "colab_type": "code",
        "colab": {},
        "outputId": "9ed00b96-adfb-4ded-a6dc-67fb7c60fbaa"
      },
      "cell_type": "code",
      "source": [
        "for i in range(10):\n",
        "    print(i)\n",
        "    if i == 5:\n",
        "        break"
      ],
      "execution_count": 0,
      "outputs": [
        {
          "output_type": "stream",
          "text": [
            "0\n",
            "1\n",
            "2\n",
            "3\n",
            "4\n",
            "5\n"
          ],
          "name": "stdout"
        }
      ]
    },
    {
      "metadata": {
        "id": "rAJpUQwvoyfC",
        "colab_type": "code",
        "colab": {}
      },
      "cell_type": "code",
      "source": [
        ""
      ],
      "execution_count": 0,
      "outputs": []
    },
    {
      "metadata": {
        "id": "O4xvxuMjoyfD",
        "colab_type": "text"
      },
      "cell_type": "markdown",
      "source": [
        "## Словари\n",
        "\n",
        "Guess what? Ещё один тип данных!\n",
        "\n",
        "Самое важное:\n",
        "* есть ключи и значения, можно быстро и удобно доставать значения по ключу\n",
        "* не упорядоченный\n",
        "* изменяемый\n",
        "* ключами могут быть только неизменяемые типы данных -- числа, строки, кортежи, но не списки и не множества \n",
        "\n",
        "Выглядит так:"
      ]
    },
    {
      "metadata": {
        "id": "ArxT-GVUoyfD",
        "colab_type": "code",
        "colab": {}
      },
      "cell_type": "code",
      "source": [
        "ages = {'ann': 7, 'peter': 11, 'sam': 5, 'elon': 44}"
      ],
      "execution_count": 0,
      "outputs": []
    },
    {
      "metadata": {
        "id": "CzyV-315oyfF",
        "colab_type": "code",
        "colab": {},
        "outputId": "cb875843-6f39-4be0-b8c4-fe1af0cc4526"
      },
      "cell_type": "code",
      "source": [
        "ages['ann']"
      ],
      "execution_count": 0,
      "outputs": [
        {
          "output_type": "execute_result",
          "data": {
            "text/plain": [
              "7"
            ]
          },
          "metadata": {
            "tags": []
          },
          "execution_count": 124
        }
      ]
    },
    {
      "metadata": {
        "id": "weJweQwEoyfH",
        "colab_type": "code",
        "colab": {}
      },
      "cell_type": "code",
      "source": [
        "ages['helen'] = 15"
      ],
      "execution_count": 0,
      "outputs": []
    },
    {
      "metadata": {
        "id": "vzBe5RzuoyfI",
        "colab_type": "code",
        "colab": {},
        "outputId": "2510ae65-5b8b-4587-95d1-92c62e282e6f"
      },
      "cell_type": "code",
      "source": [
        "ages"
      ],
      "execution_count": 0,
      "outputs": [
        {
          "output_type": "execute_result",
          "data": {
            "text/plain": [
              "{'ann': 7, 'elon': 44, 'helen': 15, 'peter': 11, 'sam': 5}"
            ]
          },
          "metadata": {
            "tags": []
          },
          "execution_count": 126
        }
      ]
    },
    {
      "metadata": {
        "id": "N9DbfGA3oyfK",
        "colab_type": "code",
        "colab": {},
        "outputId": "ae252d5b-0138-4bb5-da15-93b446dfb112"
      },
      "cell_type": "code",
      "source": [
        "ages['ann'] = 11\n",
        "ages"
      ],
      "execution_count": 0,
      "outputs": [
        {
          "output_type": "execute_result",
          "data": {
            "text/plain": [
              "{'ann': 11, 'elon': 44, 'helen': 15, 'peter': 11, 'sam': 5}"
            ]
          },
          "metadata": {
            "tags": []
          },
          "execution_count": 137
        }
      ]
    },
    {
      "metadata": {
        "id": "Vm_jga8NoyfN",
        "colab_type": "text"
      },
      "cell_type": "markdown",
      "source": [
        "### Преобразования"
      ]
    },
    {
      "metadata": {
        "id": "x6dU01IHoyfQ",
        "colab_type": "code",
        "colab": {},
        "outputId": "ccebc9eb-3d43-440e-d25d-c416e1aed2e9"
      },
      "cell_type": "code",
      "source": [
        "list(ages)"
      ],
      "execution_count": 0,
      "outputs": [
        {
          "output_type": "execute_result",
          "data": {
            "text/plain": [
              "['peter', 'elon', 'ann', 'helen', 'sam']"
            ]
          },
          "metadata": {
            "tags": []
          },
          "execution_count": 127
        }
      ]
    },
    {
      "metadata": {
        "id": "Q9z-zFTBoyfS",
        "colab_type": "code",
        "colab": {},
        "outputId": "10440d7e-04eb-4fe3-b623-f30254aa081b"
      },
      "cell_type": "code",
      "source": [
        "ages.keys()"
      ],
      "execution_count": 0,
      "outputs": [
        {
          "output_type": "execute_result",
          "data": {
            "text/plain": [
              "dict_keys(['peter', 'elon', 'ann', 'helen', 'sam'])"
            ]
          },
          "metadata": {
            "tags": []
          },
          "execution_count": 128
        }
      ]
    },
    {
      "metadata": {
        "id": "um6ZFVWPoyfU",
        "colab_type": "code",
        "colab": {},
        "outputId": "a7b29a75-93d1-441b-ff83-fc50c3039eee"
      },
      "cell_type": "code",
      "source": [
        "ages.values()"
      ],
      "execution_count": 0,
      "outputs": [
        {
          "output_type": "execute_result",
          "data": {
            "text/plain": [
              "dict_values([11, 44, 7, 15, 5])"
            ]
          },
          "metadata": {
            "tags": []
          },
          "execution_count": 129
        }
      ]
    },
    {
      "metadata": {
        "id": "H22opGvBoyfX",
        "colab_type": "code",
        "colab": {},
        "outputId": "0380d3d9-d454-4166-9c41-423ce58c6408"
      },
      "cell_type": "code",
      "source": [
        "ages.items()"
      ],
      "execution_count": 0,
      "outputs": [
        {
          "output_type": "execute_result",
          "data": {
            "text/plain": [
              "dict_items([('peter', 11), ('elon', 44), ('ann', 7), ('helen', 15), ('sam', 5)])"
            ]
          },
          "metadata": {
            "tags": []
          },
          "execution_count": 130
        }
      ]
    },
    {
      "metadata": {
        "id": "qrZQBArLoyfZ",
        "colab_type": "text"
      },
      "cell_type": "markdown",
      "source": [
        "## Задание для семинара\n",
        "\n",
        "Дан некторый текст:"
      ]
    },
    {
      "metadata": {
        "id": "-h3m9zrCoyfa",
        "colab_type": "code",
        "colab": {}
      },
      "cell_type": "code",
      "source": [
        "text = \"\"\"\n",
        "Энтропия (от др.-греч. ἐν «в» + τροπή «поворот; превращение») — широко используемый в естественных и точных науках термин. Впервые введён в рамках термодинамики как функция состояния термодинамической системы, определяющая меру необратимого рассеивания энергии. В статистической физике энтропия характеризует вероятность осуществления какого-либо макроскопического состояния. Кроме физики, термин широко употребляется в математике: теории информации и математической статистике. Для энтропии (чаще в математике) встречается также название шенноновская информация или количество информации по Шеннону[1].\n",
        "Энтропия может интерпретироваться как мера неопределённости (неупорядоченности) некоторой системы, например, какого-либо опыта (испытания), который может иметь разные исходы, а значит, и количество информации[2][3]. Таким образом, другой интерпретацией энтропии является информационная ёмкость системы. С данной интерпретацией связан тот факт, что создатель понятия энтропии в теории информации (Клод Шеннон) сначала хотел назвать эту величину информацией.\n",
        "Понятие информационной энтропии применяется как в теории информации и математической статистике, так и в статистической физике (энтропия Гиббса и её упрощённый вариант — энтропия Больцмана)[4][5]. Математический смысл информационной энтропии — это логарифм числа доступных состояний системы (основание логарифма может быть различным, но большим 1, оно определяет единицу измерения энтропии)[6]. Такая функция от числа состояний обеспечивает свойство аддитивности энтропии для независимых систем. Причём, если состояния различаются по степени доступности (то есть не равновероятны), под числом состояний системы нужно понимать их эффективное количество, которое определяется следующим образом.\n",
        "\"\"\""
      ],
      "execution_count": 0,
      "outputs": []
    },
    {
      "metadata": {
        "id": "4NWqFCY2oyfb",
        "colab_type": "text"
      },
      "cell_type": "markdown",
      "source": [
        "### Сделайте для него частотный словарь\n",
        "\n",
        "Tо есть такой словарь, в котором в ключах лежат слова, а в значениях -- сколько раз они встретились в тексте.\n",
        "Не забудьте учесть:\n",
        "* одно и то же слово, написанное с большой и маленькой буквы, считать за одно слово\n",
        "* стоит позаботиться о знаках препинания по бокам от слов"
      ]
    },
    {
      "metadata": {
        "id": "Er--65pWoyfc",
        "colab_type": "code",
        "colab": {}
      },
      "cell_type": "code",
      "source": [
        "# ваш код здесь\n"
      ],
      "execution_count": 0,
      "outputs": []
    },
    {
      "metadata": {
        "id": "vUdmVK5Toyfe",
        "colab_type": "text"
      },
      "cell_type": "markdown",
      "source": [
        "### Сколько раз встретилось самое частотное слово?"
      ]
    },
    {
      "metadata": {
        "id": "IIC56jAwoyfg",
        "colab_type": "code",
        "colab": {}
      },
      "cell_type": "code",
      "source": [
        ""
      ],
      "execution_count": 0,
      "outputs": []
    },
    {
      "metadata": {
        "id": "DFWX7Nuboyfj",
        "colab_type": "text"
      },
      "cell_type": "markdown",
      "source": [
        "### Преобразуйте словать так, чтобы в значениях лежали  относительные частоты"
      ]
    },
    {
      "metadata": {
        "id": "1Hiqxu_hoyfj",
        "colab_type": "code",
        "colab": {}
      },
      "cell_type": "code",
      "source": [
        ""
      ],
      "execution_count": 0,
      "outputs": []
    },
    {
      "metadata": {
        "id": "ityvdUJtoyfk",
        "colab_type": "text"
      },
      "cell_type": "markdown",
      "source": [
        "## pythontutor по семинару\n",
        "\n",
        "* http://pythontutor.ru/lessons/lists/#section_2\n",
        "* http://pythontutor.ru/lessons/sets/\n",
        "* http://pythontutor.ru/lessons/dicts/"
      ]
    },
    {
      "metadata": {
        "id": "Vaj8qzFkoyfm",
        "colab_type": "text"
      },
      "cell_type": "markdown",
      "source": [
        "## Домашние задания\n",
        "\n",
        "Выберите и сделайте любое. Если интересно, сделайте сколько хотите. :)\n",
        "\n",
        "### 0. Пирамида\n",
        "\n",
        "Сделайте задание на пирамидку из конца предыдущего семинара, если ещё не :)\n",
        "\n",
        "### 1. Плюсик\n",
        "\n",
        "Напишите код, который для производного числа `n` и производного символа `mark` рисует большой плюсик из символа, заданного в `mark` и имеющего высоту `n`. Например, для\n",
        "```python\n",
        "n = 7\n",
        "mark = '*'\n",
        "```\n",
        "\n",
        "долен получиться такой плюсик:\n",
        "```\n",
        "      *      \n",
        "      *      \n",
        "      *      \n",
        "* * * * * * * \n",
        "      *      \n",
        "      *      \n",
        "      *      \n",
        "```\n",
        "\n",
        "(считайте, что в начале рисунка перед плюсиком нет отступа).\n",
        "А для\n",
        "```python\n",
        "n = 11\n",
        "mark = 'ё'\n",
        "```\n",
        "\n",
        "вот такой:\n",
        "```\n",
        "          ё          \n",
        "          ё          \n",
        "          ё          \n",
        "          ё          \n",
        "          ё          \n",
        "ё ё ё ё ё ё ё ё ё ё ё \n",
        "          ё          \n",
        "          ё          \n",
        "          ё          \n",
        "          ё          \n",
        "          ё          \n",
        "```\n",
        "\n",
        "*Подсказка: между символами в среднем ряду стоят пробелы; без пробелов иначе они стоят слишком близко друг к другу.*\n",
        "\n",
        "*Подсказка 2: можно не беспокоиться о том, что происходит при чётных `n` (всё слегка едет).*"
      ]
    },
    {
      "metadata": {
        "id": "5TWdTTJ-oyfo",
        "colab_type": "code",
        "colab": {},
        "outputId": "802ec958-ebc0-4758-a38e-b852b5e03610"
      },
      "cell_type": "code",
      "source": [
        "draw_plus(5, '?')"
      ],
      "execution_count": 0,
      "outputs": [
        {
          "output_type": "stream",
          "text": [
            "    ?    \n",
            "    ?    \n",
            "? ? ? ? ? \n",
            "    ?    \n",
            "    ?    \n"
          ],
          "name": "stdout"
        }
      ]
    },
    {
      "metadata": {
        "id": "oN-LjG9ooyfq",
        "colab_type": "code",
        "colab": {}
      },
      "cell_type": "code",
      "source": [
        "# ваш код здесь\n"
      ],
      "execution_count": 0,
      "outputs": []
    },
    {
      "metadata": {
        "id": "1d-Ki0VRoyfr",
        "colab_type": "text"
      },
      "cell_type": "markdown",
      "source": [
        "### 2. Клеточка*\n",
        "\n",
        "(для тех, кому рисовать плюсик скучно)\n",
        "\n",
        "То же самое, что и в предыдущем задании, но рисунок должен получаться примерно такой.\n",
        "\n",
        "Переменные:\n",
        "\n",
        "```python\n",
        "n = 12\n",
        "mark = '8'\n",
        "```\n",
        "\n",
        "Результат:\n",
        "\n",
        "```\n",
        "       8        8        \n",
        "       8        8        \n",
        "       8        8        \n",
        "8 8 8 8 8 8 8 8 8 8 8 8 \n",
        "       8        8        \n",
        "       8        8        \n",
        "       8        8        \n",
        "       8        8        \n",
        "8 8 8 8 8 8 8 8 8 8 8 8 \n",
        "       8        8        \n",
        "       8        8        \n",
        "       8        8        \n",
        "```\n",
        "\n",
        "Переменные:\n",
        "\n",
        "```python\n",
        "n = 9\n",
        "mark = '?'\n",
        "```\n",
        "\n",
        "Результат:\n",
        "\n",
        "```\n",
        "     ?      ?      \n",
        "     ?      ?      \n",
        "? ? ? ? ? ? ? ? ? \n",
        "     ?      ?      \n",
        "     ?      ?      \n",
        "     ?      ?      \n",
        "? ? ? ? ? ? ? ? ? \n",
        "     ?      ?      \n",
        "     ?      ?     \n",
        "```"
      ]
    },
    {
      "metadata": {
        "id": "cwDmkIxmoyfr",
        "colab_type": "code",
        "colab": {},
        "outputId": "c0432a0b-12f5-4de2-a424-e0e993ae3750"
      },
      "cell_type": "code",
      "source": [
        "draw_square(6, 'a')"
      ],
      "execution_count": 0,
      "outputs": [
        {
          "output_type": "stream",
          "text": [
            "   a    a    \n",
            "a a a a a a \n",
            "   a    a    \n",
            "   a    a    \n",
            "a a a a a a \n",
            "   a    a    \n"
          ],
          "name": "stdout"
        }
      ]
    },
    {
      "metadata": {
        "id": "J9lAHv5royft",
        "colab_type": "code",
        "colab": {}
      },
      "cell_type": "code",
      "source": [
        "# ваш код здесь\n"
      ],
      "execution_count": 0,
      "outputs": []
    },
    {
      "metadata": {
        "id": "3hN-uxL2oyfv",
        "colab_type": "text"
      },
      "cell_type": "markdown",
      "source": [
        "### 3. Обратный индекс\n",
        "\n",
        "Есть словарь, в котором ключи -- фамилии поэтов, а значения -- строфы и их стихотворений:"
      ]
    },
    {
      "metadata": {
        "id": "DtNx66bpoyfw",
        "colab_type": "code",
        "colab": {}
      },
      "cell_type": "code",
      "source": [
        "poets = {\n",
        "    'Пушкин': \n",
        "\"\"\"Духовной жаждою томим,\n",
        "В пустыне мрачной я влачился, —\n",
        "И шестикрылый серафим\n",
        "На перепутье мне явился.\"\"\",\n",
        "    'Пастернак':\n",
        "\"\"\"Гул затих. Я вышел на подмостки.\n",
        "Прислонясь к дверному косяку,\n",
        "Я ловлю в далеком отголоске,\n",
        "Что случится на моем веку.\n",
        "    \"\"\",\n",
        "    'Тарковский':\n",
        "\"\"\"Был домик в три оконца \n",
        "В такой окрашен цвет, \n",
        "Что даже в спектре солнца \n",
        "Такого цвета нет. \n",
        "Он был ещё спектральней, \n",
        "Зелёный до того, \n",
        "Что я в окошко спальни \n",
        "Молился на него. \n",
        " \"\"\",\n",
        "    'Мандельштам':\n",
        "\"\"\"Я вернулся в мой город, знакомый до слёз,\n",
        "До прожилок, до детских припухлых желёз.\n",
        "\n",
        "Ты вернулся сюда, так глотай же скорей\n",
        "Рыбий жир ленинградских речных фонарей\"\"\"\n",
        "}"
      ],
      "execution_count": 0,
      "outputs": []
    },
    {
      "metadata": {
        "id": "DexRqedJoyfx",
        "colab_type": "text"
      },
      "cell_type": "markdown",
      "source": [
        "Сгенерируйте такой словарь, в котором в ключах лежат слова из стихов, а в значениях -- поэты, в стихах которых встретились эти слова. Например, по ключу `на` должен быть список из Пастернака, пушкина и Тарковского.\n",
        "\n",
        "*Обратный индекс -- полезная вещь для многих задач, связаных с поиском по тексту. Он используется в поисковиках.*"
      ]
    },
    {
      "metadata": {
        "id": "WNnltftNoyfy",
        "colab_type": "code",
        "colab": {}
      },
      "cell_type": "code",
      "source": [
        "# ваш код здесь\n"
      ],
      "execution_count": 0,
      "outputs": []
    }
  ]
}