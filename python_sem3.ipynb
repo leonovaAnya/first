{
  "nbformat": 4,
  "nbformat_minor": 0,
  "metadata": {
    "colab": {
      "name": "python_sem3.ipynb",
      "version": "0.3.2",
      "provenance": [],
      "collapsed_sections": [
        "ljj20iuJoye_",
        "Vm_jga8NoyfN",
        "vUdmVK5Toyfe",
        "DFWX7Nuboyfj",
        "1d-Ki0VRoyfr",
        "3hN-uxL2oyfv"
      ],
      "include_colab_link": true
    },
    "kernelspec": {
      "display_name": "Python 3",
      "language": "python",
      "name": "python3"
    }
  },
  "cells": [
    {
      "cell_type": "markdown",
      "metadata": {
        "id": "view-in-github",
        "colab_type": "text"
      },
      "source": [
        "<a href=\"https://colab.research.google.com/github/leonovaAnya/first/blob/master/python_sem3.ipynb\" target=\"_parent\"><img src=\"https://colab.research.google.com/assets/colab-badge.svg\" alt=\"Open In Colab\"/></a>"
      ]
    },
    {
      "metadata": {
        "id": "qtmTgBKyoydt",
        "colab_type": "text"
      },
      "cell_type": "markdown",
      "source": [
        "# Списки+, множества, словари"
      ]
    },
    {
      "metadata": {
        "id": "mnYGeYpkoydv",
        "colab_type": "text"
      },
      "cell_type": "markdown",
      "source": [
        "## Строки и списки: как превращать одно в другое"
      ]
    },
    {
      "metadata": {
        "id": "3MwMmxW9oydv",
        "colab_type": "code",
        "colab": {}
      },
      "cell_type": "code",
      "source": [
        "tarkovsky = \"\"\"Был домик в три оконца\n",
        "В такой окрашен цвет,\n",
        "Что даже в спектре солнца\n",
        "Такого цвета нет.\"\"\""
      ],
      "execution_count": 0,
      "outputs": []
    },
    {
      "metadata": {
        "id": "VgAf36HQoydz",
        "colab_type": "code",
        "colab": {
          "base_uri": "https://localhost:8080/",
          "height": 35
        },
        "outputId": "2c075516-ffa5-45fe-c100-7335a0afb3d5"
      },
      "cell_type": "code",
      "source": [
        "splitted_tarkovsky = tarkovsky.split()\n",
        "print(splitted_tarkovsky)"
      ],
      "execution_count": 8,
      "outputs": [
        {
          "output_type": "stream",
          "text": [
            "['Был', 'домик', 'в', 'три', 'оконца', 'В', 'такой', 'окрашен', 'цвет,', 'Что', 'даже', 'в', 'спектре', 'солнца', 'Такого', 'цвета', 'нет.']\n"
          ],
          "name": "stdout"
        }
      ]
    },
    {
      "metadata": {
        "id": "CrRb-989qOlw",
        "colab_type": "code",
        "colab": {}
      },
      "cell_type": "code",
      "source": [
        ""
      ],
      "execution_count": 0,
      "outputs": []
    },
    {
      "metadata": {
        "id": "7ytGxQKxoyd4",
        "colab_type": "text"
      },
      "cell_type": "markdown",
      "source": [
        "Можно также засплитить именно по пробелу:"
      ]
    },
    {
      "metadata": {
        "id": "dEDHRcUuoyd4",
        "colab_type": "code",
        "colab": {}
      },
      "cell_type": "code",
      "source": [
        "tarkovsky.split(' ')"
      ],
      "execution_count": 0,
      "outputs": []
    },
    {
      "metadata": {
        "id": "crdgLz-Aoyd7",
        "colab_type": "text"
      },
      "cell_type": "markdown",
      "source": [
        "Или по переводу строки:"
      ]
    },
    {
      "metadata": {
        "id": "nZODmrY6oyd8",
        "colab_type": "code",
        "colab": {}
      },
      "cell_type": "code",
      "source": [
        "tarkovsky.split('\\n')"
      ],
      "execution_count": 0,
      "outputs": []
    },
    {
      "metadata": {
        "id": "7_fkKJ3zoyd_",
        "colab_type": "text"
      },
      "cell_type": "markdown",
      "source": [
        "Или по букве а:"
      ]
    },
    {
      "metadata": {
        "id": "pF7KCC-OoyeA",
        "colab_type": "code",
        "colab": {}
      },
      "cell_type": "code",
      "source": [
        "tarkovsky.split('а')"
      ],
      "execution_count": 0,
      "outputs": []
    },
    {
      "metadata": {
        "id": "FjVqp5HZoyeF",
        "colab_type": "text"
      },
      "cell_type": "markdown",
      "source": [
        "А вот так массив из строк можно сделать снова одной строкой:"
      ]
    },
    {
      "metadata": {
        "id": "8HX7jdvwoyeF",
        "colab_type": "code",
        "colab": {}
      },
      "cell_type": "code",
      "source": [
        "splitted_tarkovsky[:5]"
      ],
      "execution_count": 0,
      "outputs": []
    },
    {
      "metadata": {
        "id": "QFJXopYBoyeJ",
        "colab_type": "code",
        "colab": {}
      },
      "cell_type": "code",
      "source": [
        "joined_tarkovsky = ' '.join(splitted_tarkovsky)\n",
        "print(joined_tarkovsky)"
      ],
      "execution_count": 0,
      "outputs": []
    },
    {
      "metadata": {
        "id": "QTWQpAgqoyeM",
        "colab_type": "code",
        "colab": {}
      },
      "cell_type": "code",
      "source": [
        "joined_tarkovsky_2 = ' O_o '.join(splitted_tarkovsky)\n",
        "print(joined_tarkovsky_2)"
      ],
      "execution_count": 0,
      "outputs": []
    },
    {
      "metadata": {
        "id": "7FFaNVG3oyeP",
        "colab_type": "text"
      },
      "cell_type": "markdown",
      "source": [
        "## Ещё функции для списков"
      ]
    },
    {
      "metadata": {
        "id": "v4OIHtBcoyeP",
        "colab_type": "code",
        "colab": {}
      },
      "cell_type": "code",
      "source": [
        "nums = [7, 1, 5, 6, 7, 9, 11, 0]"
      ],
      "execution_count": 0,
      "outputs": []
    },
    {
      "metadata": {
        "id": "3nQMv8WSoyeR",
        "colab_type": "code",
        "colab": {
          "base_uri": "https://localhost:8080/",
          "height": 35
        },
        "outputId": "6f9b9079-6b0f-42ef-b4e5-23e70037de21"
      },
      "cell_type": "code",
      "source": [
        "reversed(nums)"
      ],
      "execution_count": 32,
      "outputs": [
        {
          "output_type": "execute_result",
          "data": {
            "text/plain": [
              "<list_reverseiterator at 0x7fa1af6d61d0>"
            ]
          },
          "metadata": {
            "tags": []
          },
          "execution_count": 32
        }
      ]
    },
    {
      "metadata": {
        "id": "cHxyffoRoyeV",
        "colab_type": "code",
        "colab": {
          "base_uri": "https://localhost:8080/",
          "height": 35
        },
        "outputId": "5c643c31-a5ba-41c0-9af6-b931dc07c52d"
      },
      "cell_type": "code",
      "source": [
        "list(reversed(nums))"
      ],
      "execution_count": 33,
      "outputs": [
        {
          "output_type": "execute_result",
          "data": {
            "text/plain": [
              "[0, 11, 9, 7, 6, 5, 1, 7]"
            ]
          },
          "metadata": {
            "tags": []
          },
          "execution_count": 33
        }
      ]
    },
    {
      "metadata": {
        "id": "tUmeGCstoyeY",
        "colab_type": "code",
        "colab": {
          "base_uri": "https://localhost:8080/",
          "height": 35
        },
        "outputId": "fc48053c-62f4-442e-86db-5637ec234b9c"
      },
      "cell_type": "code",
      "source": [
        "sorted(nums)"
      ],
      "execution_count": 34,
      "outputs": [
        {
          "output_type": "execute_result",
          "data": {
            "text/plain": [
              "[0, 1, 5, 6, 7, 7, 9, 11]"
            ]
          },
          "metadata": {
            "tags": []
          },
          "execution_count": 34
        }
      ]
    },
    {
      "metadata": {
        "id": "r_e8BOMFoyed",
        "colab_type": "code",
        "colab": {
          "base_uri": "https://localhost:8080/",
          "height": 35
        },
        "outputId": "ca2ace35-4cbc-459e-d51a-b49f0ee6982d"
      },
      "cell_type": "code",
      "source": [
        "sorted(nums, reverse=True)"
      ],
      "execution_count": 35,
      "outputs": [
        {
          "output_type": "execute_result",
          "data": {
            "text/plain": [
              "[11, 9, 7, 7, 6, 5, 1, 0]"
            ]
          },
          "metadata": {
            "tags": []
          },
          "execution_count": 35
        }
      ]
    },
    {
      "metadata": {
        "id": "LLlwMaB9oyeg",
        "colab_type": "text"
      },
      "cell_type": "markdown",
      "source": [
        "## Множества\n",
        "\n",
        "Ещё один тип данных.\n",
        "Важные вещи:\n",
        "* элементы всегда уникальны\n",
        "* индексация (типа a\\[7\\]) -- **не** поддерживается\n",
        "* как и список, изменяемый тип"
      ]
    },
    {
      "metadata": {
        "id": "cRYWNnyjoyeh",
        "colab_type": "code",
        "colab": {}
      },
      "cell_type": "code",
      "source": [
        "numbers = {2, 4, 6, 1}"
      ],
      "execution_count": 0,
      "outputs": []
    },
    {
      "metadata": {
        "id": "06wYhA8hoyej",
        "colab_type": "code",
        "colab": {
          "base_uri": "https://localhost:8080/",
          "height": 35
        },
        "outputId": "83177a26-3248-4769-9970-2da6cb85133e"
      },
      "cell_type": "code",
      "source": [
        "numbers"
      ],
      "execution_count": 41,
      "outputs": [
        {
          "output_type": "execute_result",
          "data": {
            "text/plain": [
              "{1, 2, 4, 6, 8}"
            ]
          },
          "metadata": {
            "tags": []
          },
          "execution_count": 41
        }
      ]
    },
    {
      "metadata": {
        "id": "POXUKop0zbo2",
        "colab_type": "code",
        "colab": {
          "base_uri": "https://localhost:8080/",
          "height": 52
        },
        "outputId": "d303d597-6857-4fd3-c766-7139ef5f4225"
      },
      "cell_type": "code",
      "source": [
        "numbers.add(\"ft\")\n",
        "print(numbers)\n",
        "numbers.remove(\"ft\")\n",
        "print(numbers)\n"
      ],
      "execution_count": 2,
      "outputs": [
        {
          "output_type": "stream",
          "text": [
            "{1, 2, 4, 'ft', 6}\n",
            "{1, 2, 4, 6}\n"
          ],
          "name": "stdout"
        }
      ]
    },
    {
      "metadata": {
        "id": "bXabB-kAoyem",
        "colab_type": "code",
        "colab": {}
      },
      "cell_type": "code",
      "source": [
        "more_numbers = set([23, 43, 43])"
      ],
      "execution_count": 0,
      "outputs": []
    },
    {
      "metadata": {
        "id": "JjWdDKN7oyep",
        "colab_type": "code",
        "colab": {
          "base_uri": "https://localhost:8080/",
          "height": 35
        },
        "outputId": "3771e70e-b864-4048-ddde-ce8d16345399"
      },
      "cell_type": "code",
      "source": [
        "more_numbers"
      ],
      "execution_count": 57,
      "outputs": [
        {
          "output_type": "execute_result",
          "data": {
            "text/plain": [
              "{23, 43}"
            ]
          },
          "metadata": {
            "tags": []
          },
          "execution_count": 57
        }
      ]
    },
    {
      "metadata": {
        "id": "ccjSzF1b8B_e",
        "colab_type": "code",
        "colab": {
          "base_uri": "https://localhost:8080/",
          "height": 35
        },
        "outputId": "97238a84-b7c8-43df-fdb0-acc60b32f22d"
      },
      "cell_type": "code",
      "source": [
        "ymn={23,15,11}\n",
        "more_numbers & ymn\n"
      ],
      "execution_count": 60,
      "outputs": [
        {
          "output_type": "execute_result",
          "data": {
            "text/plain": [
              "{23}"
            ]
          },
          "metadata": {
            "tags": []
          },
          "execution_count": 60
        }
      ]
    },
    {
      "metadata": {
        "id": "G5Vg8CF_oyes",
        "colab_type": "code",
        "colab": {
          "base_uri": "https://localhost:8080/",
          "height": 35
        },
        "outputId": "facde43a-6ed9-4dcc-ef5a-a75b7910753d"
      },
      "cell_type": "code",
      "source": [
        "letters = set('letters')\n",
        "letters"
      ],
      "execution_count": 58,
      "outputs": [
        {
          "output_type": "execute_result",
          "data": {
            "text/plain": [
              "{'e', 'l', 'r', 's', 't'}"
            ]
          },
          "metadata": {
            "tags": []
          },
          "execution_count": 58
        }
      ]
    },
    {
      "metadata": {
        "id": "VCL3yFZWoyeu",
        "colab_type": "text"
      },
      "cell_type": "markdown",
      "source": [
        "### Задание на сплит и множества\n",
        "\n",
        "Есть строка:"
      ]
    },
    {
      "metadata": {
        "id": "vQVJzcUvoyev",
        "colab_type": "code",
        "colab": {}
      },
      "cell_type": "code",
      "source": [
        "sneg = \"\"\"\n",
        "снег идёт, снег идёт,\n",
        "к белым звёздочкам в буране\n",
        "тянутся цветы герани\n",
        "за оконный переплёт\n",
        "\"\"\""
      ],
      "execution_count": 0,
      "outputs": []
    },
    {
      "metadata": {
        "id": "s3AlEM2Boyex",
        "colab_type": "text"
      },
      "cell_type": "markdown",
      "source": [
        "Сколько здесь уникальных слов?"
      ]
    },
    {
      "metadata": {
        "id": "aqTS3548oyey",
        "colab_type": "code",
        "colab": {
          "base_uri": "https://localhost:8080/",
          "height": 69
        },
        "outputId": "fe9b9a1a-25b4-4999-8681-e8bae6ae70d6"
      },
      "cell_type": "code",
      "source": [
        "x=sneg.split()\n",
        "print(x)\n",
        "y=set(x)\n",
        "print(y)\n",
        "len(y)"
      ],
      "execution_count": 84,
      "outputs": [
        {
          "output_type": "stream",
          "text": [
            "['снег', 'идёт,', 'снег', 'идёт,', 'к', 'белым', 'звёздочкам', 'в', 'буране', 'тянутся', 'цветы', 'герани', 'за', 'оконный', 'переплёт']\n",
            "{'оконный', 'буране', 'звёздочкам', 'цветы', 'идёт,', 'тянутся', 'снег', 'герани', 'белым', 'к', 'за', 'в', 'переплёт'}\n"
          ],
          "name": "stdout"
        },
        {
          "output_type": "execute_result",
          "data": {
            "text/plain": [
              "13"
            ]
          },
          "metadata": {
            "tags": []
          },
          "execution_count": 84
        }
      ]
    },
    {
      "metadata": {
        "id": "7pFX30HDoyez",
        "colab_type": "text"
      },
      "cell_type": "markdown",
      "source": [
        "Выведите в алфавитном порядке все слова, которые здесь встретились:"
      ]
    },
    {
      "metadata": {
        "id": "DWAGLusCoye0",
        "colab_type": "code",
        "colab": {
          "base_uri": "https://localhost:8080/",
          "height": 277
        },
        "outputId": "1b79c696-234d-4513-c0e7-2a538ac1edfe"
      },
      "cell_type": "code",
      "source": [
        "sorted(y)\n",
        "sorted(x)"
      ],
      "execution_count": 88,
      "outputs": [
        {
          "output_type": "execute_result",
          "data": {
            "text/plain": [
              "['белым',\n",
              " 'буране',\n",
              " 'в',\n",
              " 'герани',\n",
              " 'за',\n",
              " 'звёздочкам',\n",
              " 'идёт,',\n",
              " 'идёт,',\n",
              " 'к',\n",
              " 'оконный',\n",
              " 'переплёт',\n",
              " 'снег',\n",
              " 'снег',\n",
              " 'тянутся',\n",
              " 'цветы']"
            ]
          },
          "metadata": {
            "tags": []
          },
          "execution_count": 88
        }
      ]
    },
    {
      "metadata": {
        "id": "gs39I7yaoye1",
        "colab_type": "text"
      },
      "cell_type": "markdown",
      "source": [
        "## Ещё немного про циклы\n",
        "\n",
        "### Получение нового списка\n",
        "\n",
        "На прошлом занятии мы пробегались по списку и заменяли каждый элемент на что-то другое. Но:\n",
        "* есть куда более простой для понимания способ получить один список на основе другого\n",
        "* что если нужно получить список меньшего размера -- только для некоторых элементов?\n",
        "* что если нам нужен и старый список, и новый?\n",
        "\n",
        "Обычно делают так:"
      ]
    },
    {
      "metadata": {
        "id": "QkNXZ42Coye3",
        "colab_type": "code",
        "colab": {
          "base_uri": "https://localhost:8080/",
          "height": 35
        },
        "outputId": "20a0f722-30c5-4913-924f-d2fa9c4af098"
      },
      "cell_type": "code",
      "source": [
        "x = [2, 5, 6, 3, 7, 8, 11, 15, 12]\n",
        "\n",
        "# допустим, мы хотим создать список, в котором лежат только те элементы этого списка,\n",
        "# которые делятся на 3 или 5\n",
        "new_x = []\n",
        "for num in x:\n",
        "    if num % 3 == 0 or num % 5 == 0:\n",
        "        new_x.append(num)\n",
        "        \n",
        "print(new_x)"
      ],
      "execution_count": 9,
      "outputs": [
        {
          "output_type": "stream",
          "text": [
            "[5, 6, 3, 15, 12]\n"
          ],
          "name": "stdout"
        }
      ]
    },
    {
      "metadata": {
        "id": "Bybx9JgXoye5",
        "colab_type": "text"
      },
      "cell_type": "markdown",
      "source": [
        "#### Задание\n",
        "\n",
        "Возьмём список слов:"
      ]
    },
    {
      "metadata": {
        "id": "mFp9UOeaoye6",
        "colab_type": "code",
        "colab": {
          "base_uri": "https://localhost:8080/",
          "height": 312
        },
        "outputId": "85795e26-08f1-4aa3-9e9a-03267d74c4e3"
      },
      "cell_type": "code",
      "source": [
        "splitted_tarkovsky"
      ],
      "execution_count": 10,
      "outputs": [
        {
          "output_type": "execute_result",
          "data": {
            "text/plain": [
              "['Был',\n",
              " 'домик',\n",
              " 'в',\n",
              " 'три',\n",
              " 'оконца',\n",
              " 'В',\n",
              " 'такой',\n",
              " 'окрашен',\n",
              " 'цвет,',\n",
              " 'Что',\n",
              " 'даже',\n",
              " 'в',\n",
              " 'спектре',\n",
              " 'солнца',\n",
              " 'Такого',\n",
              " 'цвета',\n",
              " 'нет.']"
            ]
          },
          "metadata": {
            "tags": []
          },
          "execution_count": 10
        }
      ]
    },
    {
      "metadata": {
        "id": "lp2j1IYGoye9",
        "colab_type": "text"
      },
      "cell_type": "markdown",
      "source": [
        "Создайте список, в котором лежат слова из списка выше, если они длиннее трёх симолов. "
      ]
    },
    {
      "metadata": {
        "id": "pkbNROWhoye9",
        "colab_type": "code",
        "colab": {
          "base_uri": "https://localhost:8080/",
          "height": 35
        },
        "outputId": "7f792789-138b-4c6c-ec72-0500e887bf02"
      },
      "cell_type": "code",
      "source": [
        "new_tar=[]\n",
        "for i in splitted_tarkovsky:\n",
        "    if len(i)>3:\n",
        "        new_tar.append(i)\n",
        "print(new_tar)\n",
        "      "
      ],
      "execution_count": 11,
      "outputs": [
        {
          "output_type": "stream",
          "text": [
            "['домик', 'оконца', 'такой', 'окрашен', 'цвет,', 'даже', 'спектре', 'солнца', 'Такого', 'цвета', 'нет.']\n"
          ],
          "name": "stdout"
        }
      ]
    },
    {
      "metadata": {
        "id": "it4Zi7C5oye_",
        "colab_type": "text"
      },
      "cell_type": "markdown",
      "source": [
        "Для тех, кому всё понятно и кто идёт вперёд -- можете посмотреть на [генераторы списков](http://pythontutor.ru/lessons/lists/#section_3) или загуглить list comprehensions. Это почти то же самое, но в одну строчку :) "
      ]
    },
    {
      "metadata": {
        "id": "ljj20iuJoye_",
        "colab_type": "text"
      },
      "cell_type": "markdown",
      "source": [
        "### break, continue\n",
        "\n",
        "break позволяет прерывать цикл"
      ]
    },
    {
      "metadata": {
        "id": "3rDIBPt0oye_",
        "colab_type": "code",
        "colab": {
          "base_uri": "https://localhost:8080/",
          "height": 121
        },
        "outputId": "982394d8-8605-48bb-ac71-c6e471aeea0f"
      },
      "cell_type": "code",
      "source": [
        "for i in range(10):\n",
        "    print(i)\n",
        "    if i == 5:\n",
        "        break"
      ],
      "execution_count": 90,
      "outputs": [
        {
          "output_type": "stream",
          "text": [
            "0\n",
            "1\n",
            "2\n",
            "3\n",
            "4\n",
            "5\n"
          ],
          "name": "stdout"
        }
      ]
    },
    {
      "metadata": {
        "id": "rAJpUQwvoyfC",
        "colab_type": "code",
        "colab": {}
      },
      "cell_type": "code",
      "source": [
        ""
      ],
      "execution_count": 0,
      "outputs": []
    },
    {
      "metadata": {
        "id": "O4xvxuMjoyfD",
        "colab_type": "text"
      },
      "cell_type": "markdown",
      "source": [
        "## Словари\n",
        "\n",
        "Guess what? Ещё один тип данных!\n",
        "\n",
        "Самое важное:\n",
        "* есть ключи и значения, можно быстро и удобно доставать значения по ключу\n",
        "* не упорядоченный\n",
        "* изменяемый\n",
        "* ключами могут быть только неизменяемые типы данных -- числа, строки, кортежи, но не списки и не множества \n",
        "\n",
        "Выглядит так:"
      ]
    },
    {
      "metadata": {
        "id": "ArxT-GVUoyfD",
        "colab_type": "code",
        "colab": {}
      },
      "cell_type": "code",
      "source": [
        "ages = {'ann': 7, 'peter': 11, 'sam': 5, 'elon': 44}"
      ],
      "execution_count": 0,
      "outputs": []
    },
    {
      "metadata": {
        "id": "CzyV-315oyfF",
        "colab_type": "code",
        "colab": {
          "base_uri": "https://localhost:8080/",
          "height": 35
        },
        "outputId": "ee1effc9-33b5-4052-bc2c-b7a846b90a04"
      },
      "cell_type": "code",
      "source": [
        "ages['peter']"
      ],
      "execution_count": 93,
      "outputs": [
        {
          "output_type": "execute_result",
          "data": {
            "text/plain": [
              "11"
            ]
          },
          "metadata": {
            "tags": []
          },
          "execution_count": 93
        }
      ]
    },
    {
      "metadata": {
        "id": "weJweQwEoyfH",
        "colab_type": "code",
        "colab": {}
      },
      "cell_type": "code",
      "source": [
        "ages['helen'] = 15"
      ],
      "execution_count": 0,
      "outputs": []
    },
    {
      "metadata": {
        "id": "vzBe5RzuoyfI",
        "colab_type": "code",
        "colab": {
          "base_uri": "https://localhost:8080/",
          "height": 35
        },
        "outputId": "237e657e-58b0-4ea3-e725-b4b0abb3807e"
      },
      "cell_type": "code",
      "source": [
        "ages"
      ],
      "execution_count": 96,
      "outputs": [
        {
          "output_type": "execute_result",
          "data": {
            "text/plain": [
              "{'ann': 7, 'elon': 44, 'helen': 15, 'peter': 11, 'sam': 5}"
            ]
          },
          "metadata": {
            "tags": []
          },
          "execution_count": 96
        }
      ]
    },
    {
      "metadata": {
        "id": "N9DbfGA3oyfK",
        "colab_type": "code",
        "colab": {}
      },
      "cell_type": "code",
      "source": [
        "ages['ann'] = 11\n",
        "ages"
      ],
      "execution_count": 0,
      "outputs": []
    },
    {
      "metadata": {
        "id": "Vm_jga8NoyfN",
        "colab_type": "text"
      },
      "cell_type": "markdown",
      "source": [
        "### Преобразования"
      ]
    },
    {
      "metadata": {
        "id": "x6dU01IHoyfQ",
        "colab_type": "code",
        "colab": {
          "base_uri": "https://localhost:8080/",
          "height": 35
        },
        "outputId": "ba8d7711-d511-4fde-916d-01b1abb551de"
      },
      "cell_type": "code",
      "source": [
        "list(ages)"
      ],
      "execution_count": 107,
      "outputs": [
        {
          "output_type": "execute_result",
          "data": {
            "text/plain": [
              "['ann', 'peter', 'sam', 'elon', 'helen']"
            ]
          },
          "metadata": {
            "tags": []
          },
          "execution_count": 107
        }
      ]
    },
    {
      "metadata": {
        "id": "Q9z-zFTBoyfS",
        "colab_type": "code",
        "colab": {
          "base_uri": "https://localhost:8080/",
          "height": 35
        },
        "outputId": "405a05ae-74a7-43df-c760-f4d88c59270f"
      },
      "cell_type": "code",
      "source": [
        "ages.keys()"
      ],
      "execution_count": 108,
      "outputs": [
        {
          "output_type": "execute_result",
          "data": {
            "text/plain": [
              "dict_keys(['ann', 'peter', 'sam', 'elon', 'helen'])"
            ]
          },
          "metadata": {
            "tags": []
          },
          "execution_count": 108
        }
      ]
    },
    {
      "metadata": {
        "id": "um6ZFVWPoyfU",
        "colab_type": "code",
        "colab": {
          "base_uri": "https://localhost:8080/",
          "height": 35
        },
        "outputId": "913d5dca-e50e-4e33-ac64-c7861a46436e"
      },
      "cell_type": "code",
      "source": [
        "ages.values()"
      ],
      "execution_count": 109,
      "outputs": [
        {
          "output_type": "execute_result",
          "data": {
            "text/plain": [
              "dict_values([7, 11, 5, 44, 15])"
            ]
          },
          "metadata": {
            "tags": []
          },
          "execution_count": 109
        }
      ]
    },
    {
      "metadata": {
        "id": "H22opGvBoyfX",
        "colab_type": "code",
        "colab": {
          "base_uri": "https://localhost:8080/",
          "height": 35
        },
        "outputId": "295066f5-eac6-4ed1-88fe-11c4406e7d08"
      },
      "cell_type": "code",
      "source": [
        "ages.items()"
      ],
      "execution_count": 110,
      "outputs": [
        {
          "output_type": "execute_result",
          "data": {
            "text/plain": [
              "dict_items([('ann', 7), ('peter', 11), ('sam', 5), ('elon', 44), ('helen', 15)])"
            ]
          },
          "metadata": {
            "tags": []
          },
          "execution_count": 110
        }
      ]
    },
    {
      "metadata": {
        "id": "qrZQBArLoyfZ",
        "colab_type": "text"
      },
      "cell_type": "markdown",
      "source": [
        "## Задание для семинара\n",
        "\n",
        "Дан некторый текст:"
      ]
    },
    {
      "metadata": {
        "id": "-h3m9zrCoyfa",
        "colab_type": "code",
        "colab": {}
      },
      "cell_type": "code",
      "source": [
        "text = \"\"\"\n",
        "Энтропия (от др.-греч. ἐν «в» + τροπή «поворот; превращение») — широко используемый в естественных и точных науках термин. Впервые введён в рамках термодинамики как функция состояния термодинамической системы, определяющая меру необратимого рассеивания энергии. В статистической физике энтропия характеризует вероятность осуществления какого-либо макроскопического состояния. Кроме физики, термин широко употребляется в математике: теории информации и математической статистике. Для энтропии (чаще в математике) встречается также название шенноновская информация или количество информации по Шеннону[1].\n",
        "Энтропия может интерпретироваться как мера неопределённости (неупорядоченности) некоторой системы, например, какого-либо опыта (испытания), который может иметь разные исходы, а значит, и количество информации[2][3]. Таким образом, другой интерпретацией энтропии является информационная ёмкость системы. С данной интерпретацией связан тот факт, что создатель понятия энтропии в теории информации (Клод Шеннон) сначала хотел назвать эту величину информацией.\n",
        "Понятие информационной энтропии применяется как в теории информации и математической статистике, так и в статистической физике (энтропия Гиббса и её упрощённый вариант — энтропия Больцмана)[4][5]. Математический смысл информационной энтропии — это логарифм числа доступных состояний системы (основание логарифма может быть различным, но большим 1, оно определяет единицу измерения энтропии)[6]. Такая функция от числа состояний обеспечивает свойство аддитивности энтропии для независимых систем. Причём, если состояния различаются по степени доступности (то есть не равновероятны), под числом состояний системы нужно понимать их эффективное количество, которое определяется следующим образом.\n",
        "\"\"\""
      ],
      "execution_count": 0,
      "outputs": []
    },
    {
      "metadata": {
        "id": "4NWqFCY2oyfb",
        "colab_type": "text"
      },
      "cell_type": "markdown",
      "source": [
        "### Сделайте для него частотный словарь\n",
        "\n",
        "Tо есть такой словарь, в котором в ключах лежат слова, а в значениях -- сколько раз они встретились в тексте.\n",
        "Не забудьте учесть:\n",
        "* одно и то же слово, написанное с большой и маленькой буквы, считать за одно слово\n",
        "* стоит позаботиться о знаках препинания по бокам от слов"
      ]
    },
    {
      "metadata": {
        "id": "Er--65pWoyfc",
        "colab_type": "code",
        "colab": {
          "base_uri": "https://localhost:8080/",
          "height": 55
        },
        "outputId": "fcf601d7-8581-4c27-c7f4-eea08398b377"
      },
      "cell_type": "code",
      "source": [
        "clean_words=[]\n",
        "for word in text.split():\n",
        "  good_word = word.lower().strip('\"\\<>()./,«-+;\"]»[12345')\n",
        "  clean_words.append(good_word)\n",
        "print(clean_words)"
      ],
      "execution_count": 29,
      "outputs": [
        {
          "output_type": "stream",
          "text": [
            "['энтропия', 'от', 'др.-греч', 'ἐν', 'в', '', 'τροπή', 'поворот', 'превращение', '—', 'широко', 'используемый', 'в', 'естественных', 'и', 'точных', 'науках', 'термин', 'впервые', 'введён', 'в', 'рамках', 'термодинамики', 'как', 'функция', 'состояния', 'термодинамической', 'системы', 'определяющая', 'меру', 'необратимого', 'рассеивания', 'энергии', 'в', 'статистической', 'физике', 'энтропия', 'характеризует', 'вероятность', 'осуществления', 'какого-либо', 'макроскопического', 'состояния', 'кроме', 'физики', 'термин', 'широко', 'употребляется', 'в', 'математике:', 'теории', 'информации', 'и', 'математической', 'статистике', 'для', 'энтропии', 'чаще', 'в', 'математике', 'встречается', 'также', 'название', 'шенноновская', 'информация', 'или', 'количество', 'информации', 'по', 'шеннону', 'энтропия', 'может', 'интерпретироваться', 'как', 'мера', 'неопределённости', 'неупорядоченности', 'некоторой', 'системы', 'например', 'какого-либо', 'опыта', 'испытания', 'который', 'может', 'иметь', 'разные', 'исходы', 'а', 'значит', 'и', 'количество', 'информации', 'таким', 'образом', 'другой', 'интерпретацией', 'энтропии', 'является', 'информационная', 'ёмкость', 'системы', 'с', 'данной', 'интерпретацией', 'связан', 'тот', 'факт', 'что', 'создатель', 'понятия', 'энтропии', 'в', 'теории', 'информации', 'клод', 'шеннон', 'сначала', 'хотел', 'назвать', 'эту', 'величину', 'информацией', 'понятие', 'информационной', 'энтропии', 'применяется', 'как', 'в', 'теории', 'информации', 'и', 'математической', 'статистике', 'так', 'и', 'в', 'статистической', 'физике', 'энтропия', 'гиббса', 'и', 'её', 'упрощённый', 'вариант', '—', 'энтропия', 'больцмана', 'математический', 'смысл', 'информационной', 'энтропии', '—', 'это', 'логарифм', 'числа', 'доступных', 'состояний', 'системы', 'основание', 'логарифма', 'может', 'быть', 'различным', 'но', 'большим', '', 'оно', 'определяет', 'единицу', 'измерения', 'энтропии)[6', 'такая', 'функция', 'от', 'числа', 'состояний', 'обеспечивает', 'свойство', 'аддитивности', 'энтропии', 'для', 'независимых', 'систем', 'причём', 'если', 'состояния', 'различаются', 'по', 'степени', 'доступности', 'то', 'есть', 'не', 'равновероятны', 'под', 'числом', 'состояний', 'системы', 'нужно', 'понимать', 'их', 'эффективное', 'количество', 'которое', 'определяется', 'следующим', 'образом']\n"
          ],
          "name": "stdout"
        }
      ]
    },
    {
      "metadata": {
        "id": "DPoKSiKlaGyZ",
        "colab_type": "code",
        "colab": {
          "base_uri": "https://localhost:8080/",
          "height": 55
        },
        "outputId": "241cd441-228d-4b5f-9496-89e33351b3a0"
      },
      "cell_type": "code",
      "source": [
        "set(clean_words)\n",
        "wordfreq={}\n",
        "for i in clean_words:\n",
        "     if i not in wordfreq:\n",
        "         wordfreq[i]=1\n",
        "     else:\n",
        "      wordfreq[i] +=1\n",
        "print (wordfreq)\n"
      ],
      "execution_count": 34,
      "outputs": [
        {
          "output_type": "stream",
          "text": [
            "{'энтропия': 5, 'от': 2, 'др.-греч': 1, 'ἐν': 1, 'в': 9, '': 2, 'τροπή': 1, 'поворот': 1, 'превращение': 1, '—': 3, 'широко': 2, 'используемый': 1, 'естественных': 1, 'и': 6, 'точных': 1, 'науках': 1, 'термин': 2, 'впервые': 1, 'введён': 1, 'рамках': 1, 'термодинамики': 1, 'как': 3, 'функция': 2, 'состояния': 3, 'термодинамической': 1, 'системы': 5, 'определяющая': 1, 'меру': 1, 'необратимого': 1, 'рассеивания': 1, 'энергии': 1, 'статистической': 2, 'физике': 2, 'характеризует': 1, 'вероятность': 1, 'осуществления': 1, 'какого-либо': 2, 'макроскопического': 1, 'кроме': 1, 'физики': 1, 'употребляется': 1, 'математике:': 1, 'теории': 3, 'информации': 5, 'математической': 2, 'статистике': 2, 'для': 2, 'энтропии': 6, 'чаще': 1, 'математике': 1, 'встречается': 1, 'также': 1, 'название': 1, 'шенноновская': 1, 'информация': 1, 'или': 1, 'количество': 3, 'по': 2, 'шеннону': 1, 'может': 3, 'интерпретироваться': 1, 'мера': 1, 'неопределённости': 1, 'неупорядоченности': 1, 'некоторой': 1, 'например': 1, 'опыта': 1, 'испытания': 1, 'который': 1, 'иметь': 1, 'разные': 1, 'исходы': 1, 'а': 1, 'значит': 1, 'таким': 1, 'образом': 2, 'другой': 1, 'интерпретацией': 2, 'является': 1, 'информационная': 1, 'ёмкость': 1, 'с': 1, 'данной': 1, 'связан': 1, 'тот': 1, 'факт': 1, 'что': 1, 'создатель': 1, 'понятия': 1, 'клод': 1, 'шеннон': 1, 'сначала': 1, 'хотел': 1, 'назвать': 1, 'эту': 1, 'величину': 1, 'информацией': 1, 'понятие': 1, 'информационной': 2, 'применяется': 1, 'так': 1, 'гиббса': 1, 'её': 1, 'упрощённый': 1, 'вариант': 1, 'больцмана': 1, 'математический': 1, 'смысл': 1, 'это': 1, 'логарифм': 1, 'числа': 2, 'доступных': 1, 'состояний': 3, 'основание': 1, 'логарифма': 1, 'быть': 1, 'различным': 1, 'но': 1, 'большим': 1, 'оно': 1, 'определяет': 1, 'единицу': 1, 'измерения': 1, 'энтропии)[6': 1, 'такая': 1, 'обеспечивает': 1, 'свойство': 1, 'аддитивности': 1, 'независимых': 1, 'систем': 1, 'причём': 1, 'если': 1, 'различаются': 1, 'степени': 1, 'доступности': 1, 'то': 1, 'есть': 1, 'не': 1, 'равновероятны': 1, 'под': 1, 'числом': 1, 'нужно': 1, 'понимать': 1, 'их': 1, 'эффективное': 1, 'которое': 1, 'определяется': 1, 'следующим': 1}\n"
          ],
          "name": "stdout"
        }
      ]
    },
    {
      "metadata": {
        "id": "vUdmVK5Toyfe",
        "colab_type": "text"
      },
      "cell_type": "markdown",
      "source": [
        "### Сколько раз встретилось самое частотное слово?"
      ]
    },
    {
      "metadata": {
        "id": "IIC56jAwoyfg",
        "colab_type": "code",
        "colab": {}
      },
      "cell_type": "code",
      "source": [
        ""
      ],
      "execution_count": 0,
      "outputs": []
    },
    {
      "metadata": {
        "id": "DFWX7Nuboyfj",
        "colab_type": "text"
      },
      "cell_type": "markdown",
      "source": [
        "### Преобразуйте словать так, чтобы в значениях лежали  относительные частоты"
      ]
    },
    {
      "metadata": {
        "id": "1Hiqxu_hoyfj",
        "colab_type": "code",
        "colab": {}
      },
      "cell_type": "code",
      "source": [
        ""
      ],
      "execution_count": 0,
      "outputs": []
    },
    {
      "metadata": {
        "id": "ityvdUJtoyfk",
        "colab_type": "text"
      },
      "cell_type": "markdown",
      "source": [
        "## pythontutor по семинару\n",
        "\n",
        "* http://pythontutor.ru/lessons/lists/#section_2\n",
        "* http://pythontutor.ru/lessons/sets/\n",
        "* http://pythontutor.ru/lessons/dicts/"
      ]
    },
    {
      "metadata": {
        "id": "Vaj8qzFkoyfm",
        "colab_type": "text"
      },
      "cell_type": "markdown",
      "source": [
        "## Домашние задания\n",
        "\n",
        "Выберите и сделайте любое. Если интересно, сделайте сколько хотите. :)\n",
        "\n",
        "### 0. Пирамида\n",
        "\n",
        "Сделайте задание на пирамидку из конца предыдущего семинара, если ещё не :)\n",
        "\n",
        "### 1. Плюсик\n",
        "\n",
        "Напишите код, который для производного числа `n` и производного символа `mark` рисует большой плюсик из символа, заданного в `mark` и имеющего высоту `n`. Например, для\n",
        "```python\n",
        "n = 7\n",
        "mark = '*'\n",
        "```\n",
        "\n",
        "долен получиться такой плюсик:\n",
        "```\n",
        "      *      \n",
        "      *      \n",
        "      *      \n",
        "* * * * * * * \n",
        "      *      \n",
        "      *      \n",
        "      *      \n",
        "```\n",
        "\n",
        "(считайте, что в начале рисунка перед плюсиком нет отступа).\n",
        "А для\n",
        "```python\n",
        "n = 11\n",
        "mark = 'ё'\n",
        "```\n",
        "\n",
        "вот такой:\n",
        "```\n",
        "          ё          \n",
        "          ё          \n",
        "          ё          \n",
        "          ё          \n",
        "          ё          \n",
        "ё ё ё ё ё ё ё ё ё ё ё \n",
        "          ё          \n",
        "          ё          \n",
        "          ё          \n",
        "          ё          \n",
        "          ё          \n",
        "```\n",
        "\n",
        "*Подсказка: между символами в среднем ряду стоят пробелы; без пробелов иначе они стоят слишком близко друг к другу.*\n",
        "\n",
        "*Подсказка 2: можно не беспокоиться о том, что происходит при чётных `n` (всё слегка едет).*"
      ]
    },
    {
      "metadata": {
        "id": "5TWdTTJ-oyfo",
        "colab_type": "code",
        "colab": {}
      },
      "cell_type": "code",
      "source": [
        "draw_plus(5, '?')"
      ],
      "execution_count": 0,
      "outputs": []
    },
    {
      "metadata": {
        "id": "oN-LjG9ooyfq",
        "colab_type": "code",
        "colab": {}
      },
      "cell_type": "code",
      "source": [
        "# ваш код здесь\n"
      ],
      "execution_count": 0,
      "outputs": []
    },
    {
      "metadata": {
        "id": "1d-Ki0VRoyfr",
        "colab_type": "text"
      },
      "cell_type": "markdown",
      "source": [
        "### 2. Клеточка*\n",
        "\n",
        "(для тех, кому рисовать плюсик скучно)\n",
        "\n",
        "То же самое, что и в предыдущем задании, но рисунок должен получаться примерно такой.\n",
        "\n",
        "Переменные:\n",
        "\n",
        "```python\n",
        "n = 12\n",
        "mark = '8'\n",
        "```\n",
        "\n",
        "Результат:\n",
        "\n",
        "```\n",
        "       8        8        \n",
        "       8        8        \n",
        "       8        8        \n",
        "8 8 8 8 8 8 8 8 8 8 8 8 \n",
        "       8        8        \n",
        "       8        8        \n",
        "       8        8        \n",
        "       8        8        \n",
        "8 8 8 8 8 8 8 8 8 8 8 8 \n",
        "       8        8        \n",
        "       8        8        \n",
        "       8        8        \n",
        "```\n",
        "\n",
        "Переменные:\n",
        "\n",
        "```python\n",
        "n = 9\n",
        "mark = '?'\n",
        "```\n",
        "\n",
        "Результат:\n",
        "\n",
        "```\n",
        "     ?      ?      \n",
        "     ?      ?      \n",
        "? ? ? ? ? ? ? ? ? \n",
        "     ?      ?      \n",
        "     ?      ?      \n",
        "     ?      ?      \n",
        "? ? ? ? ? ? ? ? ? \n",
        "     ?      ?      \n",
        "     ?      ?     \n",
        "```"
      ]
    },
    {
      "metadata": {
        "id": "cwDmkIxmoyfr",
        "colab_type": "code",
        "colab": {}
      },
      "cell_type": "code",
      "source": [
        "draw_square(6, 'a')"
      ],
      "execution_count": 0,
      "outputs": []
    },
    {
      "metadata": {
        "id": "J9lAHv5royft",
        "colab_type": "code",
        "colab": {}
      },
      "cell_type": "code",
      "source": [
        "# ваш код здесь\n"
      ],
      "execution_count": 0,
      "outputs": []
    },
    {
      "metadata": {
        "id": "3hN-uxL2oyfv",
        "colab_type": "text"
      },
      "cell_type": "markdown",
      "source": [
        "### 3. Обратный индекс\n",
        "\n",
        "Есть словарь, в котором ключи -- фамилии поэтов, а значения -- строфы и их стихотворений:"
      ]
    },
    {
      "metadata": {
        "id": "DtNx66bpoyfw",
        "colab_type": "code",
        "colab": {}
      },
      "cell_type": "code",
      "source": [
        "poets = {\n",
        "    'Пушкин': \n",
        "\"\"\"Духовной жаждою томим,\n",
        "В пустыне мрачной я влачился, —\n",
        "И шестикрылый серафим\n",
        "На перепутье мне явился.\"\"\",\n",
        "    'Пастернак':\n",
        "\"\"\"Гул затих. Я вышел на подмостки.\n",
        "Прислонясь к дверному косяку,\n",
        "Я ловлю в далеком отголоске,\n",
        "Что случится на моем веку.\n",
        "    \"\"\",\n",
        "    'Тарковский':\n",
        "\"\"\"Был домик в три оконца \n",
        "В такой окрашен цвет, \n",
        "Что даже в спектре солнца \n",
        "Такого цвета нет. \n",
        "Он был ещё спектральней, \n",
        "Зелёный до того, \n",
        "Что я в окошко спальни \n",
        "Молился на него. \n",
        " \"\"\",\n",
        "    'Мандельштам':\n",
        "\"\"\"Я вернулся в мой город, знакомый до слёз,\n",
        "До прожилок, до детских припухлых желёз.\n",
        "\n",
        "Ты вернулся сюда, так глотай же скорей\n",
        "Рыбий жир ленинградских речных фонарей\"\"\"\n",
        "}"
      ],
      "execution_count": 0,
      "outputs": []
    },
    {
      "metadata": {
        "id": "DexRqedJoyfx",
        "colab_type": "text"
      },
      "cell_type": "markdown",
      "source": [
        "Сгенерируйте такой словарь, в котором в ключах лежат слова из стихов, а в значениях -- поэты, в стихах которых встретились эти слова. Например, по ключу `на` должен быть список из Пастернака, пушкина и Тарковского.\n",
        "\n",
        "*Обратный индекс -- полезная вещь для многих задач, связаных с поиском по тексту. Он используется в поисковиках.*"
      ]
    },
    {
      "metadata": {
        "id": "WNnltftNoyfy",
        "colab_type": "code",
        "colab": {}
      },
      "cell_type": "code",
      "source": [
        "# ваш код здесь\n"
      ],
      "execution_count": 0,
      "outputs": []
    }
  ]
}