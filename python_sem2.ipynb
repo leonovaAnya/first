{
  "nbformat": 4,
  "nbformat_minor": 0,
  "metadata": {
    "colab": {
      "name": "python_sem2.ipynb",
      "version": "0.3.2",
      "provenance": [],
      "include_colab_link": true
    },
    "kernelspec": {
      "display_name": "Python 3",
      "language": "python",
      "name": "python3"
    }
  },
  "cells": [
    {
      "cell_type": "markdown",
      "metadata": {
        "id": "view-in-github",
        "colab_type": "text"
      },
      "source": [
        "<a href=\"https://colab.research.google.com/github/leonovaAnya/first/blob/master/python_sem2.ipynb\" target=\"_parent\"><img src=\"https://colab.research.google.com/assets/colab-badge.svg\" alt=\"Open In Colab\"/></a>"
      ]
    },
    {
      "metadata": {
        "id": "RjBN6WdsHqgq",
        "colab_type": "text"
      },
      "cell_type": "markdown",
      "source": [
        "# Условия, циклы, массивы\n",
        "\n",
        "## Повторение: строки\n",
        "\n",
        "Прежде, чем мы начнём: в питоне есть функция для считывания данных, вводимых пользователем -- `input()`. Попробуйте запустить код ниже и посмотреть, что будет."
      ]
    },
    {
      "metadata": {
        "id": "f4BuV-yeHqgt",
        "colab_type": "code",
        "colab": {
          "base_uri": "https://localhost:8080/",
          "height": 52
        },
        "outputId": "fd45fc77-259c-478f-b0f4-1fdb5cefdfc6"
      },
      "cell_type": "code",
      "source": [
        "word = input()\n",
        "print('вы сказали, ' + word + '!')"
      ],
      "execution_count": 4,
      "outputs": [
        {
          "output_type": "stream",
          "text": [
            "lalala\n",
            "вы сказали, lalala\n"
          ],
          "name": "stdout"
        }
      ]
    },
    {
      "metadata": {
        "id": "Te1a1bFnHqg4",
        "colab_type": "text"
      },
      "cell_type": "markdown",
      "source": [
        "Теперь у вас в переменной `word` лежит слово, которое вы ввели, и можно с ним что-то делать.\n",
        "\n",
        "### Задание на повторение (строки + регулярки)\n",
        "Напишите код, который принимает переменную от пользователя (от вас через `input`) и заменяет все идущие подряд пробелы на один пробел.\n",
        "Пример того, что должен делать код -- в ячейке ниже."
      ]
    },
    {
      "metadata": {
        "id": "eGZJqEfpHqg6",
        "colab_type": "code",
        "colab": {
          "base_uri": "https://localhost:8080/",
          "height": 35
        },
        "outputId": "70ce5214-a819-4cac-e65f-3be4d71103e7"
      },
      "cell_type": "code",
      "source": [
        "import re\n",
        "string_for_testing = 'qw  qwqd ad aw    ad  asd af  asf'\n",
        "re.sub(\"\\s+\", \" \", string_for_testing)\n"
      ],
      "execution_count": 23,
      "outputs": [
        {
          "output_type": "execute_result",
          "data": {
            "text/plain": [
              "'qw qwqd ad aw ad asd af asf'"
            ]
          },
          "metadata": {
            "tags": []
          },
          "execution_count": 23
        }
      ]
    },
    {
      "metadata": {
        "id": "7qL3aHi0Hqg9",
        "colab_type": "code",
        "colab": {},
        "outputId": "dda88a8f-75bd-4b8b-f339-37eb393b9253"
      },
      "cell_type": "code",
      "source": [
        "remove_rep_spaces(string_for_testing)"
      ],
      "execution_count": 0,
      "outputs": [
        {
          "output_type": "execute_result",
          "data": {
            "text/plain": [
              "'qw qwqd ad aw ad asd af asf'"
            ]
          },
          "metadata": {
            "tags": []
          },
          "execution_count": 50
        }
      ]
    },
    {
      "metadata": {
        "id": "4idjFbi5HqhB",
        "colab_type": "code",
        "colab": {}
      },
      "cell_type": "code",
      "source": [
        "# ваш код здесь\n"
      ],
      "execution_count": 0,
      "outputs": []
    },
    {
      "metadata": {
        "id": "73MJcTLYHqhE",
        "colab_type": "text"
      },
      "cell_type": "markdown",
      "source": [
        "## Условия if / else\n",
        "\n",
        "Синтаксис:\n",
        "\n",
        "```\n",
        "if Условие:\n",
        "    Блок инструкций 1\n",
        "else:\n",
        "    Блок инструкций 2\n",
        "```\n",
        "Пример:"
      ]
    },
    {
      "metadata": {
        "id": "rd_8lj2VHqhG",
        "colab_type": "code",
        "colab": {
          "base_uri": "https://localhost:8080/",
          "height": 52
        },
        "outputId": "2a932bb2-dc75-42e1-b1b6-984993b1fc66"
      },
      "cell_type": "code",
      "source": [
        "x = int(input())\n",
        "if x > 0:\n",
        "    print(x)\n",
        "else:\n",
        "    print(-x)"
      ],
      "execution_count": 25,
      "outputs": [
        {
          "output_type": "stream",
          "text": [
            "-4\n",
            "4\n"
          ],
          "name": "stdout"
        }
      ]
    },
    {
      "metadata": {
        "id": "nvZd5qafHqhI",
        "colab_type": "text"
      },
      "cell_type": "markdown",
      "source": [
        "Здесь после слова if указывается проверяемое условие `(x > 0)`, завершающееся двоеточием. После этого идет блок (последовательность) инструкций, который будет выполнен, если условие истинно, в нашем примере это вывод на экран величины `x`. Затем идет слово `else` (иначе), также завершающееся двоеточием, и блок инструкций, который будет выполнен, если проверяемое условие неверно, в данном случае будет выведено значение `-x`."
      ]
    },
    {
      "metadata": {
        "id": "YPOV6a4NHqhJ",
        "colab_type": "text"
      },
      "cell_type": "markdown",
      "source": [
        "### True и False\n",
        "\n",
        "Это переменные, относящиеся к типу boolean. Они отвечают за истинность утверждений. Например,"
      ]
    },
    {
      "metadata": {
        "id": "flp935bfHqhJ",
        "colab_type": "code",
        "colab": {},
        "outputId": "8e277bad-fce4-4dc9-c0ba-c4735003be41"
      },
      "cell_type": "code",
      "source": [
        "10 > 3"
      ],
      "execution_count": 0,
      "outputs": [
        {
          "output_type": "execute_result",
          "data": {
            "text/plain": [
              "True"
            ]
          },
          "metadata": {
            "tags": []
          },
          "execution_count": 12
        }
      ]
    },
    {
      "metadata": {
        "id": "Q4NmG4blHqhO",
        "colab_type": "code",
        "colab": {},
        "outputId": "e3ae4d76-7cff-4659-b329-74250974a9af"
      },
      "cell_type": "code",
      "source": [
        "-1 > 2"
      ],
      "execution_count": 0,
      "outputs": [
        {
          "output_type": "execute_result",
          "data": {
            "text/plain": [
              "False"
            ]
          },
          "metadata": {
            "tags": []
          },
          "execution_count": 15
        }
      ]
    },
    {
      "metadata": {
        "id": "kr50ojZuHqhQ",
        "colab_type": "text"
      },
      "cell_type": "markdown",
      "source": [
        "Именно `True` или `False`, на самом деле, идут после слова `if` в условной конструкции. В примере выше, `x > 0` исполняется и приравнивается либо к `True`, либо к `Flase`."
      ]
    },
    {
      "metadata": {
        "id": "bsfYYaxQHqhR",
        "colab_type": "text"
      },
      "cell_type": "markdown",
      "source": [
        "### Логические операторы\n",
        "\n",
        "С условиями очень часто используются логические операторы `and` и `or`."
      ]
    },
    {
      "metadata": {
        "id": "nlFR8bUkHqhT",
        "colab_type": "text"
      },
      "cell_type": "markdown",
      "source": [
        "### and"
      ]
    },
    {
      "metadata": {
        "id": "6X93ZzhpHqhU",
        "colab_type": "code",
        "colab": {},
        "outputId": "e5dc04c8-7373-42ab-951c-f68918385fe3"
      },
      "cell_type": "code",
      "source": [
        "12 == 12 and 'a' == 'a'"
      ],
      "execution_count": 0,
      "outputs": [
        {
          "output_type": "execute_result",
          "data": {
            "text/plain": [
              "True"
            ]
          },
          "metadata": {
            "tags": []
          },
          "execution_count": 17
        }
      ]
    },
    {
      "metadata": {
        "id": "HTT5csowHqhX",
        "colab_type": "code",
        "colab": {},
        "outputId": "7b7f41ab-91d3-42a9-d2a6-68143727625a"
      },
      "cell_type": "code",
      "source": [
        "12 == 12 and 'a' == 'b'"
      ],
      "execution_count": 0,
      "outputs": [
        {
          "output_type": "execute_result",
          "data": {
            "text/plain": [
              "False"
            ]
          },
          "metadata": {
            "tags": []
          },
          "execution_count": 18
        }
      ]
    },
    {
      "metadata": {
        "id": "1gOC_w0vHqha",
        "colab_type": "text"
      },
      "cell_type": "markdown",
      "source": [
        "### or"
      ]
    },
    {
      "metadata": {
        "id": "zU8yzOSnHqhb",
        "colab_type": "code",
        "colab": {},
        "outputId": "dd656967-8040-462c-d92e-d73027b88905"
      },
      "cell_type": "code",
      "source": [
        "12 == 12 or 'a' == 'a'"
      ],
      "execution_count": 0,
      "outputs": [
        {
          "output_type": "execute_result",
          "data": {
            "text/plain": [
              "True"
            ]
          },
          "metadata": {
            "tags": []
          },
          "execution_count": 19
        }
      ]
    },
    {
      "metadata": {
        "id": "35MxvvEzHqhe",
        "colab_type": "code",
        "colab": {},
        "outputId": "90e5aab2-2799-4164-ae43-4d602e772366"
      },
      "cell_type": "code",
      "source": [
        "12 == 12 or 'a' == 'и'"
      ],
      "execution_count": 0,
      "outputs": [
        {
          "output_type": "execute_result",
          "data": {
            "text/plain": [
              "True"
            ]
          },
          "metadata": {
            "tags": []
          },
          "execution_count": 20
        }
      ]
    },
    {
      "metadata": {
        "id": "cqleLvisHqhh",
        "colab_type": "code",
        "colab": {},
        "outputId": "029b4be6-5fdc-49b3-b37f-b0a253c129a4"
      },
      "cell_type": "code",
      "source": [
        "12 == 4 or 'a' == 'и'"
      ],
      "execution_count": 0,
      "outputs": [
        {
          "output_type": "execute_result",
          "data": {
            "text/plain": [
              "False"
            ]
          },
          "metadata": {
            "tags": []
          },
          "execution_count": 21
        }
      ]
    },
    {
      "metadata": {
        "id": "dIbBzs4hHqhl",
        "colab_type": "text"
      },
      "cell_type": "markdown",
      "source": [
        "### "
      ]
    },
    {
      "metadata": {
        "id": "RyGWlGxoHqhp",
        "colab_type": "code",
        "colab": {}
      },
      "cell_type": "code",
      "source": [
        ""
      ],
      "execution_count": 0,
      "outputs": []
    },
    {
      "metadata": {
        "id": "acb7_x5UHqhq",
        "colab_type": "text"
      },
      "cell_type": "markdown",
      "source": [
        "### elif"
      ]
    },
    {
      "metadata": {
        "id": "A11n2n1WHqhr",
        "colab_type": "code",
        "colab": {},
        "outputId": "3ce23f0e-581f-4ef4-90a5-6509d322faf9"
      },
      "cell_type": "code",
      "source": [
        "word = 'котик'\n",
        "if len(word) < 4:\n",
        "    print('Это очень короткое слово!')\n",
        "elif len(word) < 15:\n",
        "    print('Нормальное слово')\n",
        "else:\n",
        "    print('Это очень длинное слово!')"
      ],
      "execution_count": 0,
      "outputs": [
        {
          "output_type": "stream",
          "text": [
            "Нормальное слово\n"
          ],
          "name": "stdout"
        }
      ]
    },
    {
      "metadata": {
        "id": "YpxlvdIQHqhu",
        "colab_type": "text"
      },
      "cell_type": "markdown",
      "source": [
        "### Задание на elif и операторы"
      ]
    },
    {
      "metadata": {
        "id": "JaFgQ8yFHqhw",
        "colab_type": "text"
      },
      "cell_type": "markdown",
      "source": [
        "Даны три целых числа. Определите, сколько среди них совпадающих. Программа должна вывести одно из чисел: 3 (если все совпадают), 2 (если два совпадает) или 0 (если все числа различны)."
      ]
    },
    {
      "metadata": {
        "id": "KJlpbQrqHqhw",
        "colab_type": "code",
        "colab": {
          "base_uri": "https://localhost:8080/",
          "height": 35
        },
        "outputId": "989698f4-d2e6-4d0e-b018-3a792c2ec00c"
      },
      "cell_type": "code",
      "source": [
        "# числа\n",
        "first = 2\n",
        "second = 4\n",
        "third = 4\n",
        "if first==second and second==third:\n",
        "    print(3)\n",
        "elif first==second or second==third:\n",
        "      print(2)\n",
        "else:\n",
        "    print(0)\n",
        "    \n"
      ],
      "execution_count": 35,
      "outputs": [
        {
          "output_type": "stream",
          "text": [
            "2\n"
          ],
          "name": "stdout"
        }
      ]
    },
    {
      "metadata": {
        "id": "cevbnE4qHqhz",
        "colab_type": "text"
      },
      "cell_type": "markdown",
      "source": [
        "## Массивы/ списки\n",
        "\n",
        "Это такой тип данных, в котором можно хранить несколько элементов. Например, так: "
      ]
    },
    {
      "metadata": {
        "id": "i4RSrb9_Hqh0",
        "colab_type": "code",
        "colab": {
          "base_uri": "https://localhost:8080/",
          "height": 35
        },
        "outputId": "9cb59d74-411c-4355-dfa0-7e4ae3a7e995"
      },
      "cell_type": "code",
      "source": [
        "digits = [23, 34, 12]\n",
        "digits"
      ],
      "execution_count": 36,
      "outputs": [
        {
          "output_type": "execute_result",
          "data": {
            "text/plain": [
              "[23, 34, 12]"
            ]
          },
          "metadata": {
            "tags": []
          },
          "execution_count": 36
        }
      ]
    },
    {
      "metadata": {
        "id": "XJVhU5ZQHqh2",
        "colab_type": "text"
      },
      "cell_type": "markdown",
      "source": [
        "Или так:"
      ]
    },
    {
      "metadata": {
        "id": "C_LwUFhOHqh3",
        "colab_type": "code",
        "colab": {
          "base_uri": "https://localhost:8080/",
          "height": 35
        },
        "outputId": "6674dca0-eb26-4527-9717-1999ce5624dc"
      },
      "cell_type": "code",
      "source": [
        "sent = 'тут несколько слов'\n",
        "words = sent.split()\n",
        "words"
      ],
      "execution_count": 38,
      "outputs": [
        {
          "output_type": "execute_result",
          "data": {
            "text/plain": [
              "['тут', 'несколько', 'слов']"
            ]
          },
          "metadata": {
            "tags": []
          },
          "execution_count": 38
        }
      ]
    },
    {
      "metadata": {
        "id": "jH5sSQmQHqh6",
        "colab_type": "text"
      },
      "cell_type": "markdown",
      "source": [
        "Или так!"
      ]
    },
    {
      "metadata": {
        "id": "K_jwlC5DHqh6",
        "colab_type": "code",
        "colab": {
          "base_uri": "https://localhost:8080/",
          "height": 35
        },
        "outputId": "c247a560-ef07-4c59-da4c-afeb6714a0be"
      },
      "cell_type": "code",
      "source": [
        "aaa = ['тут', 1111, 'всё', True, False, 'в перемешку', [12, 'aaa']]\n",
        "aaa"
      ],
      "execution_count": 39,
      "outputs": [
        {
          "output_type": "execute_result",
          "data": {
            "text/plain": [
              "['тут', 1111, 'всё', True, False, 'в перемешку', [12, 'aaa']]"
            ]
          },
          "metadata": {
            "tags": []
          },
          "execution_count": 39
        }
      ]
    },
    {
      "metadata": {
        "id": "2t4R7ANmHqh-",
        "colab_type": "text"
      },
      "cell_type": "markdown",
      "source": [
        "Как можно было заметить, списки можно вкладывать друг в друга.\n",
        "\n",
        "### Индексы\n",
        "\n",
        "Списки умеют много всего. Самое главное -- достать элемент по индексу. Внимание: индексирование массивов начинается с нуля!"
      ]
    },
    {
      "metadata": {
        "id": "trX5cAWlHqh-",
        "colab_type": "code",
        "colab": {
          "base_uri": "https://localhost:8080/",
          "height": 35
        },
        "outputId": "dff63ca4-94ac-4ddc-b78a-e12364077c95"
      },
      "cell_type": "code",
      "source": [
        "aaa[0]"
      ],
      "execution_count": 40,
      "outputs": [
        {
          "output_type": "execute_result",
          "data": {
            "text/plain": [
              "'тут'"
            ]
          },
          "metadata": {
            "tags": []
          },
          "execution_count": 40
        }
      ]
    },
    {
      "metadata": {
        "id": "tLBOsBc8HqiC",
        "colab_type": "code",
        "colab": {},
        "outputId": "e6a94f16-78d2-4295-e717-773b9553b9f1"
      },
      "cell_type": "code",
      "source": [
        "aaa[3]"
      ],
      "execution_count": 0,
      "outputs": [
        {
          "output_type": "execute_result",
          "data": {
            "text/plain": [
              "True"
            ]
          },
          "metadata": {
            "tags": []
          },
          "execution_count": 26
        }
      ]
    },
    {
      "metadata": {
        "id": "K6FkGsgUHqiE",
        "colab_type": "text"
      },
      "cell_type": "markdown",
      "source": [
        "Индексы могут идти с конца: тогда надо поставить минус перед индексом. Начинаются они с `-1`"
      ]
    },
    {
      "metadata": {
        "id": "ohMohG77HqiE",
        "colab_type": "code",
        "colab": {},
        "outputId": "112ea852-3e71-42a6-e6f3-bfa09596267b"
      },
      "cell_type": "code",
      "source": [
        "aaa[-1]"
      ],
      "execution_count": 0,
      "outputs": [
        {
          "output_type": "execute_result",
          "data": {
            "text/plain": [
              "[12, 'aaa']"
            ]
          },
          "metadata": {
            "tags": []
          },
          "execution_count": 28
        }
      ]
    },
    {
      "metadata": {
        "id": "jlf3XsoMHqiG",
        "colab_type": "text"
      },
      "cell_type": "markdown",
      "source": [
        "А вот так можно достать элемент из вложенного списка:"
      ]
    },
    {
      "metadata": {
        "id": "ZC6_VvGcHqiG",
        "colab_type": "code",
        "colab": {},
        "outputId": "8b48e99e-6db9-4e00-88fa-8a80b768699e"
      },
      "cell_type": "code",
      "source": [
        "aaa[-1][0] # первый элемент списка, лежащего в последнем элементе списка aaa"
      ],
      "execution_count": 0,
      "outputs": [
        {
          "output_type": "execute_result",
          "data": {
            "text/plain": [
              "12"
            ]
          },
          "metadata": {
            "tags": []
          },
          "execution_count": 30
        }
      ]
    },
    {
      "metadata": {
        "id": "92oGNS4THqiJ",
        "colab_type": "text"
      },
      "cell_type": "markdown",
      "source": [
        "### Задание на индексы\n",
        "\n",
        "Есть список: "
      ]
    },
    {
      "metadata": {
        "id": "2upN38GZHqiJ",
        "colab_type": "code",
        "colab": {}
      },
      "cell_type": "code",
      "source": [
        "a = [['a', 1], ['b', 2], ['c', 3], ['g', 7]]"
      ],
      "execution_count": 0,
      "outputs": []
    },
    {
      "metadata": {
        "id": "Gmlx4lzTHqiM",
        "colab_type": "text"
      },
      "cell_type": "markdown",
      "source": [
        "Отдельные символы можно склеивать:"
      ]
    },
    {
      "metadata": {
        "id": "gXBEd06tHqiM",
        "colab_type": "code",
        "colab": {},
        "outputId": "3d3ef0e8-7083-449a-9fa9-6512e9285abd"
      },
      "cell_type": "code",
      "source": [
        "'a' + 'c'"
      ],
      "execution_count": 0,
      "outputs": [
        {
          "output_type": "execute_result",
          "data": {
            "text/plain": [
              "'ac'"
            ]
          },
          "metadata": {
            "tags": []
          },
          "execution_count": 35
        }
      ]
    },
    {
      "metadata": {
        "id": "-s1ZUR4uHqiP",
        "colab_type": "text"
      },
      "cell_type": "markdown",
      "source": [
        "Достаньте из списка нужные символы и напишите слово \"bag\":"
      ]
    },
    {
      "metadata": {
        "id": "KGdaeNQLHqiP",
        "colab_type": "code",
        "colab": {
          "base_uri": "https://localhost:8080/",
          "height": 35
        },
        "outputId": "817cb25b-ba72-42c2-dae2-a6f468e9ab18"
      },
      "cell_type": "code",
      "source": [
        "a[1][0]+a[0][0]+a[3][0]"
      ],
      "execution_count": 85,
      "outputs": [
        {
          "output_type": "execute_result",
          "data": {
            "text/plain": [
              "'bag'"
            ]
          },
          "metadata": {
            "tags": []
          },
          "execution_count": 85
        }
      ]
    },
    {
      "metadata": {
        "id": "p3YdvbpFHqiR",
        "colab_type": "text"
      },
      "cell_type": "markdown",
      "source": [
        "### Слайсы\n",
        "\n",
        "Можно брать не отдельный элемент, а сразу часть списка. Для этого есть слайсы."
      ]
    },
    {
      "metadata": {
        "id": "6Mpy-dmJHqiS",
        "colab_type": "code",
        "colab": {}
      },
      "cell_type": "code",
      "source": [
        "a = [3, 5, 7, 9, 11]"
      ],
      "execution_count": 0,
      "outputs": []
    },
    {
      "metadata": {
        "id": "JQoz6u-LHqiU",
        "colab_type": "code",
        "colab": {
          "base_uri": "https://localhost:8080/",
          "height": 35
        },
        "outputId": "d1caa3db-2d80-4901-8c3d-a25621cfa022"
      },
      "cell_type": "code",
      "source": [
        "a[2:5] # с третьего по пятый"
      ],
      "execution_count": 87,
      "outputs": [
        {
          "output_type": "execute_result",
          "data": {
            "text/plain": [
              "[7, 9, 11]"
            ]
          },
          "metadata": {
            "tags": []
          },
          "execution_count": 87
        }
      ]
    },
    {
      "metadata": {
        "id": "T9UGcGW2HqiW",
        "colab_type": "code",
        "colab": {
          "base_uri": "https://localhost:8080/",
          "height": 35
        },
        "outputId": "c93c3e52-effa-43aa-d9cf-d503134c0eb5"
      },
      "cell_type": "code",
      "source": [
        "a[:3] # c начала по третий"
      ],
      "execution_count": 89,
      "outputs": [
        {
          "output_type": "execute_result",
          "data": {
            "text/plain": [
              "[3, 5, 7]"
            ]
          },
          "metadata": {
            "tags": []
          },
          "execution_count": 89
        }
      ]
    },
    {
      "metadata": {
        "id": "YLGJY0JyHqiY",
        "colab_type": "code",
        "colab": {
          "base_uri": "https://localhost:8080/",
          "height": 35
        },
        "outputId": "771db7f3-db8e-44f8-fd80-f499a2873f0b"
      },
      "cell_type": "code",
      "source": [
        "a[3:] # с четвёртого до конца"
      ],
      "execution_count": 90,
      "outputs": [
        {
          "output_type": "execute_result",
          "data": {
            "text/plain": [
              "[9, 11]"
            ]
          },
          "metadata": {
            "tags": []
          },
          "execution_count": 90
        }
      ]
    },
    {
      "metadata": {
        "id": "wy9pMu5EHqid",
        "colab_type": "code",
        "colab": {
          "base_uri": "https://localhost:8080/",
          "height": 35
        },
        "outputId": "7d1a5ead-c280-4319-e0cd-892562b0a9c8"
      },
      "cell_type": "code",
      "source": [
        "a[::2] # с начала до конца с шагом 2"
      ],
      "execution_count": 91,
      "outputs": [
        {
          "output_type": "execute_result",
          "data": {
            "text/plain": [
              "[3, 7, 11]"
            ]
          },
          "metadata": {
            "tags": []
          },
          "execution_count": 91
        }
      ]
    },
    {
      "metadata": {
        "id": "3Y-UOmQZHqih",
        "colab_type": "text"
      },
      "cell_type": "markdown",
      "source": [
        "### len, sum, max, min"
      ]
    },
    {
      "metadata": {
        "id": "gIXMZIlDHqij",
        "colab_type": "code",
        "colab": {
          "base_uri": "https://localhost:8080/",
          "height": 35
        },
        "outputId": "f0f4c03c-c94e-4e41-8e71-1acee9baf91a"
      },
      "cell_type": "code",
      "source": [
        "a = [2, 4, 6, 8, 10]\n",
        "x=sum(a)/len(a)\n",
        "print(x)\n"
      ],
      "execution_count": 95,
      "outputs": [
        {
          "output_type": "stream",
          "text": [
            "6.0\n"
          ],
          "name": "stdout"
        }
      ]
    },
    {
      "metadata": {
        "id": "z4vG6fa_Hqil",
        "colab_type": "code",
        "colab": {},
        "outputId": "761f3320-71fc-4b04-a4d7-ec9da7e6537b"
      },
      "cell_type": "code",
      "source": [
        "len(a) # длина, так же, как и со строками"
      ],
      "execution_count": 0,
      "outputs": [
        {
          "output_type": "execute_result",
          "data": {
            "text/plain": [
              "5"
            ]
          },
          "metadata": {
            "tags": []
          },
          "execution_count": 2
        }
      ]
    },
    {
      "metadata": {
        "id": "gP3aTJZxHqin",
        "colab_type": "code",
        "colab": {},
        "outputId": "23a4562c-a9d8-4bbc-f55b-0189edf19f62"
      },
      "cell_type": "code",
      "source": [
        "sum(a) # сумма всех элементов"
      ],
      "execution_count": 0,
      "outputs": [
        {
          "output_type": "execute_result",
          "data": {
            "text/plain": [
              "30"
            ]
          },
          "metadata": {
            "tags": []
          },
          "execution_count": 3
        }
      ]
    },
    {
      "metadata": {
        "id": "Ks7UtO9XHqiq",
        "colab_type": "code",
        "colab": {},
        "outputId": "ca861ecb-bdfa-4c70-d19f-64f71afec6ee"
      },
      "cell_type": "code",
      "source": [
        "max(a)"
      ],
      "execution_count": 0,
      "outputs": [
        {
          "output_type": "execute_result",
          "data": {
            "text/plain": [
              "10"
            ]
          },
          "metadata": {
            "tags": []
          },
          "execution_count": 4
        }
      ]
    },
    {
      "metadata": {
        "id": "H8V0S6frHqiu",
        "colab_type": "code",
        "colab": {},
        "outputId": "c98aa326-f514-4d3d-83be-dca4dfe727b1"
      },
      "cell_type": "code",
      "source": [
        "min(a)"
      ],
      "execution_count": 0,
      "outputs": [
        {
          "output_type": "execute_result",
          "data": {
            "text/plain": [
              "2"
            ]
          },
          "metadata": {
            "tags": []
          },
          "execution_count": 11
        }
      ]
    },
    {
      "metadata": {
        "id": "SrBNm7F2Hqiw",
        "colab_type": "text"
      },
      "cell_type": "markdown",
      "source": [
        "### Задание на функции, работающие с массивами\n",
        "\n",
        "Дан список:"
      ]
    },
    {
      "metadata": {
        "id": "eN3iZXajHqiy",
        "colab_type": "code",
        "colab": {}
      },
      "cell_type": "code",
      "source": [
        "a = [4, 12, 54, 1]"
      ],
      "execution_count": 0,
      "outputs": []
    },
    {
      "metadata": {
        "id": "5qd8L2rEHqi0",
        "colab_type": "text"
      },
      "cell_type": "markdown",
      "source": [
        "Найдите среднее арифметическое его элементов:"
      ]
    },
    {
      "metadata": {
        "id": "l-il-UP2Hqi1",
        "colab_type": "code",
        "colab": {}
      },
      "cell_type": "code",
      "source": [
        ""
      ],
      "execution_count": 0,
      "outputs": []
    },
    {
      "metadata": {
        "id": "YmUd8H8EHqi3",
        "colab_type": "text"
      },
      "cell_type": "markdown",
      "source": [
        "### in, +, append"
      ]
    },
    {
      "metadata": {
        "id": "mEC0rLzRHqi3",
        "colab_type": "code",
        "colab": {},
        "outputId": "886004df-bd94-4ebc-f1e7-fc1bcfb49409"
      },
      "cell_type": "code",
      "source": [
        "digits"
      ],
      "execution_count": 0,
      "outputs": [
        {
          "output_type": "execute_result",
          "data": {
            "text/plain": [
              "[23, 34, 12]"
            ]
          },
          "metadata": {
            "tags": []
          },
          "execution_count": 41
        }
      ]
    },
    {
      "metadata": {
        "id": "GxypJ1xbHqi4",
        "colab_type": "text"
      },
      "cell_type": "markdown",
      "source": [
        "Так можно проверять, входит ли элемент в массив:"
      ]
    },
    {
      "metadata": {
        "id": "h5-D10VOHqi5",
        "colab_type": "code",
        "colab": {},
        "outputId": "b7a07a0e-2f1d-4f62-a0b9-bcc7f2b963e5"
      },
      "cell_type": "code",
      "source": [
        "23 in digits"
      ],
      "execution_count": 0,
      "outputs": [
        {
          "output_type": "execute_result",
          "data": {
            "text/plain": [
              "True"
            ]
          },
          "metadata": {
            "tags": []
          },
          "execution_count": 42
        }
      ]
    },
    {
      "metadata": {
        "id": "Bb8mq77HHqi8",
        "colab_type": "code",
        "colab": {
          "base_uri": "https://localhost:8080/",
          "height": 35
        },
        "outputId": "f13f6c2b-9112-487b-84d0-c66ee88c86b3"
      },
      "cell_type": "code",
      "source": [
        "11 in digits"
      ],
      "execution_count": 96,
      "outputs": [
        {
          "output_type": "execute_result",
          "data": {
            "text/plain": [
              "False"
            ]
          },
          "metadata": {
            "tags": []
          },
          "execution_count": 96
        }
      ]
    },
    {
      "metadata": {
        "id": "7ZMqRBg1Hqi9",
        "colab_type": "text"
      },
      "cell_type": "markdown",
      "source": [
        "Так можно складывать (конкатенировать) списки:"
      ]
    },
    {
      "metadata": {
        "id": "l-fq7Ur9Hqi-",
        "colab_type": "code",
        "colab": {},
        "outputId": "715a081f-e051-4b45-a5f2-c21dc81d4e08"
      },
      "cell_type": "code",
      "source": [
        "a = [2, 4]\n",
        "b = [111, 222]\n",
        "c = a + b\n",
        "print(c)"
      ],
      "execution_count": 0,
      "outputs": [
        {
          "output_type": "stream",
          "text": [
            "[2, 4, 111, 222]\n"
          ],
          "name": "stdout"
        }
      ]
    },
    {
      "metadata": {
        "id": "8_dohaR8HqjA",
        "colab_type": "text"
      },
      "cell_type": "markdown",
      "source": [
        "Так можно добавить элемент в список:"
      ]
    },
    {
      "metadata": {
        "id": "aDvclLPxHqjA",
        "colab_type": "code",
        "colab": {},
        "outputId": "de848a6e-4f7c-47ad-8741-ad52efc6ce19"
      },
      "cell_type": "code",
      "source": [
        "c"
      ],
      "execution_count": 0,
      "outputs": [
        {
          "output_type": "execute_result",
          "data": {
            "text/plain": [
              "[2, 4, 111, 222]"
            ]
          },
          "metadata": {
            "tags": []
          },
          "execution_count": 56
        }
      ]
    },
    {
      "metadata": {
        "id": "BMfOS_swHqjC",
        "colab_type": "code",
        "colab": {}
      },
      "cell_type": "code",
      "source": [
        "c.append(123)"
      ],
      "execution_count": 0,
      "outputs": []
    },
    {
      "metadata": {
        "id": "VtY4MRVaHqjD",
        "colab_type": "code",
        "colab": {},
        "outputId": "88b14808-ad5a-4174-c1cf-eb329134e547"
      },
      "cell_type": "code",
      "source": [
        "c"
      ],
      "execution_count": 0,
      "outputs": [
        {
          "output_type": "execute_result",
          "data": {
            "text/plain": [
              "[2, 4, 111, 222, 123]"
            ]
          },
          "metadata": {
            "tags": []
          },
          "execution_count": 58
        }
      ]
    },
    {
      "metadata": {
        "id": "7wv3YaYLHqjG",
        "colab_type": "text"
      },
      "cell_type": "markdown",
      "source": [
        "### Задание на in и append\n",
        "\n",
        "Вам дан список строк:"
      ]
    },
    {
      "metadata": {
        "id": "r9chPA7jHqjG",
        "colab_type": "code",
        "colab": {}
      },
      "cell_type": "code",
      "source": [
        "words = ['orange', 'blue', 'green', 'grey', 'red']"
      ],
      "execution_count": 0,
      "outputs": []
    },
    {
      "metadata": {
        "id": "wUdQ1BRLHqjH",
        "colab_type": "text"
      },
      "cell_type": "markdown",
      "source": [
        "Считайте у пользователя строку и напечатайте \"i know this word\", если он входит в список. Если слова  и \"i don't know this word yet\" в противном случае. Если слова в массиве нет, добавьте его в массив."
      ]
    },
    {
      "metadata": {
        "id": "kc7L22YVHqjH",
        "colab_type": "code",
        "colab": {
          "base_uri": "https://localhost:8080/",
          "height": 69
        },
        "outputId": "2b88feec-8cac-480c-98b4-36ffaac0cca1"
      },
      "cell_type": "code",
      "source": [
        "x=input()\n",
        "if x in words:\n",
        "  print(\"I know this word\")\n",
        "else:\n",
        "  print(\"I don't know it yet\")\n",
        "  words.append(x)\n",
        "  print (words)\n"
      ],
      "execution_count": 107,
      "outputs": [
        {
          "output_type": "stream",
          "text": [
            "котик\n",
            "I don't know it yet\n",
            "['orange', 'blue', 'green', 'grey', 'red', 'category', 'cat', 'dogs', 'котик']\n"
          ],
          "name": "stdout"
        }
      ]
    },
    {
      "metadata": {
        "id": "0t_I7g49q0Uw",
        "colab_type": "code",
        "colab": {
          "base_uri": "https://localhost:8080/",
          "height": 35
        },
        "outputId": "b9827959-dbfd-44b9-8204-79a99a9b4651"
      },
      "cell_type": "code",
      "source": [
        "a=[\"cut\", \"house\", \"letter\"]\n",
        "for i in range(len(a)):\n",
        "  x=a[i]\n",
        "  a[i]=len(x)\n",
        "  print (a[i], end=\" \")\n",
        "  "
      ],
      "execution_count": 117,
      "outputs": [
        {
          "output_type": "stream",
          "text": [
            "3 5 6 "
          ],
          "name": "stdout"
        }
      ]
    },
    {
      "metadata": {
        "id": "bt23gHLauf2t",
        "colab_type": "code",
        "colab": {}
      },
      "cell_type": "code",
      "source": [
        ""
      ],
      "execution_count": 0,
      "outputs": []
    },
    {
      "metadata": {
        "id": "wwk44XDnHqjJ",
        "colab_type": "text"
      },
      "cell_type": "markdown",
      "source": [
        "## Цикл for\n",
        "\n",
        "Синтаксиc:\n",
        "\n",
        "```\n",
        "for element in sequence:\n",
        "    do something with element\n",
        "```\n",
        "\n",
        "Пример:"
      ]
    },
    {
      "metadata": {
        "id": "ukX03ONqHqjJ",
        "colab_type": "code",
        "colab": {
          "base_uri": "https://localhost:8080/",
          "height": 35
        },
        "outputId": "0995b98c-977e-4423-c54c-5657a8f7a610"
      },
      "cell_type": "code",
      "source": [
        "for el in words:\n",
        "    print(el, end=' ')"
      ],
      "execution_count": 110,
      "outputs": [
        {
          "output_type": "stream",
          "text": [
            "orange blue green grey red category cat dogs котик "
          ],
          "name": "stdout"
        }
      ]
    },
    {
      "metadata": {
        "id": "f_iWReGiHqjM",
        "colab_type": "text"
      },
      "cell_type": "markdown",
      "source": [
        "### range"
      ]
    },
    {
      "metadata": {
        "id": "AHcbebnEHqjM",
        "colab_type": "code",
        "colab": {},
        "outputId": "0fbc52fe-d833-45a2-c29d-fef7cd4e553a"
      },
      "cell_type": "code",
      "source": [
        "for i in range(10):\n",
        "    print(i)"
      ],
      "execution_count": 0,
      "outputs": [
        {
          "output_type": "stream",
          "text": [
            "0\n",
            "1\n",
            "2\n",
            "3\n",
            "4\n",
            "5\n",
            "6\n",
            "7\n",
            "8\n",
            "9\n"
          ],
          "name": "stdout"
        }
      ]
    },
    {
      "metadata": {
        "id": "f0iQ6PKFHqjP",
        "colab_type": "code",
        "colab": {},
        "outputId": "78d0bf89-2b59-4d00-bafa-019e9e9de0bf"
      },
      "cell_type": "code",
      "source": [
        "for i in range(10):\n",
        "    print(i, end=' ')"
      ],
      "execution_count": 0,
      "outputs": [
        {
          "output_type": "stream",
          "text": [
            "0 1 2 3 4 5 6 7 8 9 "
          ],
          "name": "stdout"
        }
      ]
    },
    {
      "metadata": {
        "id": "E5kn7giiHqjQ",
        "colab_type": "text"
      },
      "cell_type": "markdown",
      "source": [
        "### Задание на range\n",
        "\n",
        "Напишите код, который получает на вход число `n` и рисует \"пирамидку\", которая выглядит следующим образом (для n=7):"
      ]
    },
    {
      "metadata": {
        "id": "S1CkKkcXHqjR",
        "colab_type": "code",
        "colab": {},
        "outputId": "35df28ab-eec0-4ba6-9c78-fb966177ae58"
      },
      "cell_type": "code",
      "source": [
        "make_pyramid(7)"
      ],
      "execution_count": 0,
      "outputs": [
        {
          "output_type": "stream",
          "text": [
            "\n",
            "1 \n",
            "1 4 \n",
            "1 4 9 \n",
            "1 4 9 16 \n",
            "1 4 9 16 25 \n",
            "1 4 9 16 25 36 \n"
          ],
          "name": "stdout"
        }
      ]
    },
    {
      "metadata": {
        "id": "584mdWG3HqjS",
        "colab_type": "code",
        "colab": {}
      },
      "cell_type": "code",
      "source": [
        "# ваш код здесь\n"
      ],
      "execution_count": 0,
      "outputs": []
    },
    {
      "metadata": {
        "id": "1IKb7xQZHqjU",
        "colab_type": "text"
      },
      "cell_type": "markdown",
      "source": [
        "## Большое задание\n",
        "\n",
        "Задайте некоторую строку с текстом, разделите текст на слова по пробелам, посчитайте количество инфинитивов в нём и замените все инфинитивы на обратные."
      ]
    },
    {
      "metadata": {
        "id": "OIC5CYCZHqjV",
        "colab_type": "code",
        "colab": {}
      },
      "cell_type": "code",
      "source": [
        ""
      ],
      "execution_count": 0,
      "outputs": []
    },
    {
      "metadata": {
        "id": "y1SOfD05HqjW",
        "colab_type": "text"
      },
      "cell_type": "markdown",
      "source": [
        "## Большое-задание-под звёздочкой\n",
        "\n",
        "Напишите код, который получает на вход число `n` и рисует \"пирамидку\", которая выглядит следующим образом (для n=7):"
      ]
    },
    {
      "metadata": {
        "id": "Xj0lSWi3HqjX",
        "colab_type": "code",
        "colab": {},
        "outputId": "06eb9b16-d8e3-4ba0-b2cc-f7960e25c83b"
      },
      "cell_type": "code",
      "source": [
        "make_pyramid(7)"
      ],
      "execution_count": 0,
      "outputs": [
        {
          "output_type": "stream",
          "text": [
            "\n",
            "7 \n",
            "7 6 \n",
            "7 6 5 \n",
            "7 6 5 4 \n",
            "7 6 5 4 3 \n",
            "7 6 5 4 3 2 \n",
            "7 6 5 4 3 2 1 \n"
          ],
          "name": "stdout"
        }
      ]
    },
    {
      "metadata": {
        "id": "e7sfLVbAHqjY",
        "colab_type": "code",
        "colab": {}
      },
      "cell_type": "code",
      "source": [
        "# ваш код здесь\n"
      ],
      "execution_count": 0,
      "outputs": []
    },
    {
      "metadata": {
        "id": "csjUfw5KHqjZ",
        "colab_type": "text"
      },
      "cell_type": "markdown",
      "source": [
        "## P.S\n",
        "\n",
        "Если вам была непонятна какая-то тема или вы что-то пропустили, посмотрите в секции [2](http://pythontutor.ru/lessons/ifelse/), [4](http://pythontutor.ru/lessons/for_loop/) и [7](http://pythontutor.ru/lessons/lists/) на [питонтьюторе](pythontutor.ru)."
      ]
    }
  ]
}